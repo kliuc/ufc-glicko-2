{
 "cells": [
  {
   "cell_type": "markdown",
   "metadata": {},
   "source": [
    "In this notebook we will optimize the parameters of the rating system."
   ]
  },
  {
   "cell_type": "markdown",
   "metadata": {},
   "source": [
    "## Imports"
   ]
  },
  {
   "cell_type": "code",
   "execution_count": 1,
   "metadata": {},
   "outputs": [],
   "source": [
    "from rating.glicko2_ufc import FighterManager\n",
    "import pandas as pd\n",
    "from datetime import datetime\n",
    "import numpy as np\n",
    "from scipy.optimize import minimize"
   ]
  },
  {
   "cell_type": "markdown",
   "metadata": {},
   "source": [
    "## Data"
   ]
  },
  {
   "cell_type": "markdown",
   "metadata": {},
   "source": [
    "First load the data"
   ]
  },
  {
   "cell_type": "code",
   "execution_count": 2,
   "metadata": {},
   "outputs": [
    {
     "data": {
      "application/vnd.microsoft.datawrangler.viewer.v0+json": {
       "columns": [
        {
         "name": "index",
         "rawType": "int64",
         "type": "integer"
        },
        {
         "name": "event",
         "rawType": "object",
         "type": "string"
        },
        {
         "name": "date",
         "rawType": "datetime64[ns]",
         "type": "datetime"
        },
        {
         "name": "fighter",
         "rawType": "object",
         "type": "string"
        },
        {
         "name": "opponent",
         "rawType": "object",
         "type": "string"
        },
        {
         "name": "weight_class",
         "rawType": "object",
         "type": "string"
        },
        {
         "name": "outcome",
         "rawType": "object",
         "type": "string"
        },
        {
         "name": "method",
         "rawType": "object",
         "type": "string"
        }
       ],
       "ref": "bda21563-9b58-4758-9d63-61028386ffd1",
       "rows": [
        [
         "8249",
         "UFC 2: No Way Out",
         "1994-03-11 00:00:00",
         "Scott Morris",
         "Sean Daugherty",
         "Open Weight",
         "win",
         "SUB"
        ],
        [
         "8235",
         "UFC 2: No Way Out",
         "1994-03-11 00:00:00",
         "Royce Gracie",
         "Patrick Smith",
         "Open Weight",
         "win",
         "KO/TKO"
        ],
        [
         "8236",
         "UFC 2: No Way Out",
         "1994-03-11 00:00:00",
         "Royce Gracie",
         "Remco Pardoel",
         "Open Weight",
         "win",
         "SUB"
        ],
        [
         "8237",
         "UFC 2: No Way Out",
         "1994-03-11 00:00:00",
         "Patrick Smith",
         "Johnny Rhodes",
         "Open Weight",
         "win",
         "SUB"
        ],
        [
         "8238",
         "UFC 2: No Way Out",
         "1994-03-11 00:00:00",
         "Royce Gracie",
         "Jason DeLucia",
         "Open Weight",
         "win",
         "SUB"
        ]
       ],
       "shape": {
        "columns": 7,
        "rows": 5
       }
      },
      "text/html": [
       "<div>\n",
       "<style scoped>\n",
       "    .dataframe tbody tr th:only-of-type {\n",
       "        vertical-align: middle;\n",
       "    }\n",
       "\n",
       "    .dataframe tbody tr th {\n",
       "        vertical-align: top;\n",
       "    }\n",
       "\n",
       "    .dataframe thead th {\n",
       "        text-align: right;\n",
       "    }\n",
       "</style>\n",
       "<table border=\"1\" class=\"dataframe\">\n",
       "  <thead>\n",
       "    <tr style=\"text-align: right;\">\n",
       "      <th></th>\n",
       "      <th>event</th>\n",
       "      <th>date</th>\n",
       "      <th>fighter</th>\n",
       "      <th>opponent</th>\n",
       "      <th>weight_class</th>\n",
       "      <th>outcome</th>\n",
       "      <th>method</th>\n",
       "    </tr>\n",
       "  </thead>\n",
       "  <tbody>\n",
       "    <tr>\n",
       "      <th>8249</th>\n",
       "      <td>UFC 2: No Way Out</td>\n",
       "      <td>1994-03-11</td>\n",
       "      <td>Scott Morris</td>\n",
       "      <td>Sean Daugherty</td>\n",
       "      <td>Open Weight</td>\n",
       "      <td>win</td>\n",
       "      <td>SUB</td>\n",
       "    </tr>\n",
       "    <tr>\n",
       "      <th>8235</th>\n",
       "      <td>UFC 2: No Way Out</td>\n",
       "      <td>1994-03-11</td>\n",
       "      <td>Royce Gracie</td>\n",
       "      <td>Patrick Smith</td>\n",
       "      <td>Open Weight</td>\n",
       "      <td>win</td>\n",
       "      <td>KO/TKO</td>\n",
       "    </tr>\n",
       "    <tr>\n",
       "      <th>8236</th>\n",
       "      <td>UFC 2: No Way Out</td>\n",
       "      <td>1994-03-11</td>\n",
       "      <td>Royce Gracie</td>\n",
       "      <td>Remco Pardoel</td>\n",
       "      <td>Open Weight</td>\n",
       "      <td>win</td>\n",
       "      <td>SUB</td>\n",
       "    </tr>\n",
       "    <tr>\n",
       "      <th>8237</th>\n",
       "      <td>UFC 2: No Way Out</td>\n",
       "      <td>1994-03-11</td>\n",
       "      <td>Patrick Smith</td>\n",
       "      <td>Johnny Rhodes</td>\n",
       "      <td>Open Weight</td>\n",
       "      <td>win</td>\n",
       "      <td>SUB</td>\n",
       "    </tr>\n",
       "    <tr>\n",
       "      <th>8238</th>\n",
       "      <td>UFC 2: No Way Out</td>\n",
       "      <td>1994-03-11</td>\n",
       "      <td>Royce Gracie</td>\n",
       "      <td>Jason DeLucia</td>\n",
       "      <td>Open Weight</td>\n",
       "      <td>win</td>\n",
       "      <td>SUB</td>\n",
       "    </tr>\n",
       "  </tbody>\n",
       "</table>\n",
       "</div>"
      ],
      "text/plain": [
       "                  event       date        fighter        opponent  \\\n",
       "8249  UFC 2: No Way Out 1994-03-11   Scott Morris  Sean Daugherty   \n",
       "8235  UFC 2: No Way Out 1994-03-11   Royce Gracie   Patrick Smith   \n",
       "8236  UFC 2: No Way Out 1994-03-11   Royce Gracie   Remco Pardoel   \n",
       "8237  UFC 2: No Way Out 1994-03-11  Patrick Smith   Johnny Rhodes   \n",
       "8238  UFC 2: No Way Out 1994-03-11   Royce Gracie   Jason DeLucia   \n",
       "\n",
       "     weight_class outcome  method  \n",
       "8249  Open Weight     win     SUB  \n",
       "8235  Open Weight     win  KO/TKO  \n",
       "8236  Open Weight     win     SUB  \n",
       "8237  Open Weight     win     SUB  \n",
       "8238  Open Weight     win     SUB  "
      ]
     },
     "execution_count": 2,
     "metadata": {},
     "output_type": "execute_result"
    }
   ],
   "source": [
    "fights_df = pd.read_json('data/fights.json').sort_values('date')\n",
    "fights_df.head()"
   ]
  },
  {
   "cell_type": "markdown",
   "metadata": {},
   "source": [
    "According to [Wikipedia](https://en.wikipedia.org/wiki/Ultimate_Fighting_Championship), UFC 28 (November 17, 2000) was the first UFC event under the \"Unified Rules of MMA\". This is the current (albeit with minor changes) ruleset used by the UFC today (2025). For the purposes of this project, we will only consider fights taking place on or after November 17, 2000."
   ]
  },
  {
   "cell_type": "code",
   "execution_count": 3,
   "metadata": {},
   "outputs": [
    {
     "data": {
      "application/vnd.microsoft.datawrangler.viewer.v0+json": {
       "columns": [
        {
         "name": "index",
         "rawType": "int64",
         "type": "integer"
        },
        {
         "name": "event",
         "rawType": "object",
         "type": "string"
        },
        {
         "name": "date",
         "rawType": "datetime64[ns]",
         "type": "datetime"
        },
        {
         "name": "fighter",
         "rawType": "object",
         "type": "string"
        },
        {
         "name": "opponent",
         "rawType": "object",
         "type": "string"
        },
        {
         "name": "weight_class",
         "rawType": "object",
         "type": "string"
        },
        {
         "name": "outcome",
         "rawType": "object",
         "type": "string"
        },
        {
         "name": "method",
         "rawType": "object",
         "type": "string"
        }
       ],
       "ref": "fa14417c-adf9-43b5-9855-b915f9602612",
       "rows": [
        [
         "7990",
         "UFC 28: High Stakes",
         "2000-11-17 00:00:00",
         "Randy Couture",
         "Kevin Randleman",
         "Heavyweight",
         "win",
         "KO/TKO"
        ],
        [
         "7991",
         "UFC 28: High Stakes",
         "2000-11-17 00:00:00",
         "Renato Sobral",
         "Maurice Smith",
         "Heavyweight",
         "win",
         "M-DEC"
        ],
        [
         "7992",
         "UFC 28: High Stakes",
         "2000-11-17 00:00:00",
         "Josh Barnett",
         "Gan McGee",
         "Super Heavyweight",
         "win",
         "KO/TKO"
        ],
        [
         "7993",
         "UFC 28: High Stakes",
         "2000-11-17 00:00:00",
         "Andrei Arlovski",
         "Aaron Brink",
         "Heavyweight",
         "win",
         "SUB"
        ],
        [
         "7995",
         "UFC 28: High Stakes",
         "2000-11-17 00:00:00",
         "Mark Hughes",
         "Alex Stiebling",
         "Middleweight",
         "win",
         "U-DEC"
        ]
       ],
       "shape": {
        "columns": 7,
        "rows": 5
       }
      },
      "text/html": [
       "<div>\n",
       "<style scoped>\n",
       "    .dataframe tbody tr th:only-of-type {\n",
       "        vertical-align: middle;\n",
       "    }\n",
       "\n",
       "    .dataframe tbody tr th {\n",
       "        vertical-align: top;\n",
       "    }\n",
       "\n",
       "    .dataframe thead th {\n",
       "        text-align: right;\n",
       "    }\n",
       "</style>\n",
       "<table border=\"1\" class=\"dataframe\">\n",
       "  <thead>\n",
       "    <tr style=\"text-align: right;\">\n",
       "      <th></th>\n",
       "      <th>event</th>\n",
       "      <th>date</th>\n",
       "      <th>fighter</th>\n",
       "      <th>opponent</th>\n",
       "      <th>weight_class</th>\n",
       "      <th>outcome</th>\n",
       "      <th>method</th>\n",
       "    </tr>\n",
       "  </thead>\n",
       "  <tbody>\n",
       "    <tr>\n",
       "      <th>7990</th>\n",
       "      <td>UFC 28: High Stakes</td>\n",
       "      <td>2000-11-17</td>\n",
       "      <td>Randy Couture</td>\n",
       "      <td>Kevin Randleman</td>\n",
       "      <td>Heavyweight</td>\n",
       "      <td>win</td>\n",
       "      <td>KO/TKO</td>\n",
       "    </tr>\n",
       "    <tr>\n",
       "      <th>7991</th>\n",
       "      <td>UFC 28: High Stakes</td>\n",
       "      <td>2000-11-17</td>\n",
       "      <td>Renato Sobral</td>\n",
       "      <td>Maurice Smith</td>\n",
       "      <td>Heavyweight</td>\n",
       "      <td>win</td>\n",
       "      <td>M-DEC</td>\n",
       "    </tr>\n",
       "    <tr>\n",
       "      <th>7992</th>\n",
       "      <td>UFC 28: High Stakes</td>\n",
       "      <td>2000-11-17</td>\n",
       "      <td>Josh Barnett</td>\n",
       "      <td>Gan McGee</td>\n",
       "      <td>Super Heavyweight</td>\n",
       "      <td>win</td>\n",
       "      <td>KO/TKO</td>\n",
       "    </tr>\n",
       "    <tr>\n",
       "      <th>7993</th>\n",
       "      <td>UFC 28: High Stakes</td>\n",
       "      <td>2000-11-17</td>\n",
       "      <td>Andrei Arlovski</td>\n",
       "      <td>Aaron Brink</td>\n",
       "      <td>Heavyweight</td>\n",
       "      <td>win</td>\n",
       "      <td>SUB</td>\n",
       "    </tr>\n",
       "    <tr>\n",
       "      <th>7995</th>\n",
       "      <td>UFC 28: High Stakes</td>\n",
       "      <td>2000-11-17</td>\n",
       "      <td>Mark Hughes</td>\n",
       "      <td>Alex Stiebling</td>\n",
       "      <td>Middleweight</td>\n",
       "      <td>win</td>\n",
       "      <td>U-DEC</td>\n",
       "    </tr>\n",
       "  </tbody>\n",
       "</table>\n",
       "</div>"
      ],
      "text/plain": [
       "                    event       date          fighter         opponent  \\\n",
       "7990  UFC 28: High Stakes 2000-11-17    Randy Couture  Kevin Randleman   \n",
       "7991  UFC 28: High Stakes 2000-11-17    Renato Sobral    Maurice Smith   \n",
       "7992  UFC 28: High Stakes 2000-11-17     Josh Barnett        Gan McGee   \n",
       "7993  UFC 28: High Stakes 2000-11-17  Andrei Arlovski      Aaron Brink   \n",
       "7995  UFC 28: High Stakes 2000-11-17      Mark Hughes   Alex Stiebling   \n",
       "\n",
       "           weight_class outcome  method  \n",
       "7990        Heavyweight     win  KO/TKO  \n",
       "7991        Heavyweight     win   M-DEC  \n",
       "7992  Super Heavyweight     win  KO/TKO  \n",
       "7993        Heavyweight     win     SUB  \n",
       "7995       Middleweight     win   U-DEC  "
      ]
     },
     "execution_count": 3,
     "metadata": {},
     "output_type": "execute_result"
    }
   ],
   "source": [
    "fights_df = fights_df[fights_df['date'] >= datetime(2000, 11, 17)]\n",
    "fights_df.head()"
   ]
  },
  {
   "cell_type": "markdown",
   "metadata": {},
   "source": [
    "Further we will treat fights graded \"No Contest\" as if the fight never occured (and thus exclude them)."
   ]
  },
  {
   "cell_type": "code",
   "execution_count": 4,
   "metadata": {},
   "outputs": [],
   "source": [
    "fights_df = fights_df[fights_df['outcome'] != 'nc']"
   ]
  },
  {
   "cell_type": "markdown",
   "metadata": {},
   "source": [
    "## Optimizing Algorithm Parameters"
   ]
  },
  {
   "cell_type": "markdown",
   "metadata": {},
   "source": [
    "First we group the data into ten-week rating periods. The choice of ten-week durations is motivated by:\n",
    "1. The rating periods (for Glicko-2) should be chosen so that there is possibility of reasonable change in ability of fighters.\n",
    "2. An average UFC fighter's fight camp lasts 8-10 weeks.\n",
    "\n",
    "So we assume ten weeks is a sufficient amount of time for fighters to improve their ability, changes which will be captured by the rating algorithm."
   ]
  },
  {
   "cell_type": "code",
   "execution_count": 5,
   "metadata": {},
   "outputs": [],
   "source": [
    "fights_grouped = fights_df.groupby(pd.Grouper(key='date', freq='10W'))\n",
    "grouped_list = list(fights_grouped)"
   ]
  },
  {
   "cell_type": "markdown",
   "metadata": {},
   "source": [
    "We want to choose parameters tau and initial volatility to minimize predictive discrepancy of the rating algorithm. The parameters are:\n",
    "- $\\tau$: scales change in volatility over time (smaller $\\tau$ corresponds to smaller change in volatility)\n",
    "- $\\sigma_0$: intial volatility value assigned to new fighers in the system\n",
    "\n",
    "The predictive descrepancy objective $f(\\tau, \\sigma_0)$ will be computed as such:\n",
    "- Define $S = \\{x_1 \\ldots x_m\\}$ the set of all $m$ fighters\n",
    "- Define $S_n = \\{s_1=(x_i, x_j),s_2=(x_k, x_l) \\ldots\\}$ the set of pairs of fighters that fought during the $n$-th rating period\n",
    "- Define $\\hat{p}_n:S_{n+1} \\rightarrow (0,1)$ the predicted outcome of the fight between two fighters after the $n$-th rating update. So $\\hat{p}_5(x_1, x_2) = 0.7$ means that after the $5$-th rating update, the predicted probability of fighter 1 beating fighter 2 is 70%. Naturally $p$ is the true binary outcome.\n",
    "- $f(\\tau, \\sigma_0) = \\sum_{t=n}^{T-1} \\sum_{s\\in S_{n+1}} L(\\hat{p}_n(s),p(s))$\n",
    "\n",
    "Here $T$ is the total amount of rating periods and $L$ is a loss function. We will use cross-entropy. $n$ is effectively a burn-in for the rating algorithm. We will choose $n$ to be the first 75% of the rating periods. Draws will not be used in loss computation.\n",
    "\n",
    "Additionally backtesting accuracy can be computed as $\\sum_{t=n}^{T-1} \\sum_{s\\in S_{n+1}} 1\\{\\hat{p}_n(s) == p(s)\\}$"
   ]
  },
  {
   "cell_type": "code",
   "execution_count": null,
   "metadata": {},
   "outputs": [],
   "source": [
    "# loss function\n",
    "def cross_entropy_loss(phat, p):\n",
    "    return -(p*np.log(phat) + (1-p)*np.log(1-phat)).sum()\n",
    "\n",
    "\n",
    "# objective implementation\n",
    "def f(tau, sigma0, burnin=0.75, loss=cross_entropy_loss):\n",
    "    manager = FighterManager(tau=tau, volatility=sigma0)\n",
    "    # burn-in rating updates\n",
    "    T = len(grouped_list)\n",
    "    n = int(T*burnin)\n",
    "    for period, group in grouped_list[:n]:\n",
    "        timestamp = period.strftime('%Y-%m-%d')\n",
    "        manager.update_fighters(timestamp, group)\n",
    "    # loss calculation\n",
    "    total_loss = 0\n",
    "    for period, group in grouped_list[n:]:\n",
    "        if len(group) == 0:\n",
    "            continue\n",
    "        non_draw = group[group['outcome'] != 'draw']\n",
    "        p = non_draw['outcome'] == 'win'\n",
    "        fighters = non_draw['fighter']\n",
    "        opponents = non_draw['opponent']\n",
    "        competitors = pd.concat([fighters, opponents]).unique()\n",
    "        manager.add_fighters(competitors)\n",
    "        matchups_matrix = manager.get_matchups_matrix(competitors)\n",
    "        phat = np.array(\n",
    "            [\n",
    "                matchups_matrix.loc[fighter, opponent]\n",
    "                for fighter, opponent in zip(fighters, opponents)\n",
    "            ]\n",
    "        )\n",
    "        total_loss += loss(phat, p)\n",
    "        timestamp = period.strftime('%Y-%m-%d')\n",
    "        manager.update_fighters(timestamp, group)\n",
    "    return total_loss\n",
    "\n",
    "\n",
    "# accuracy implementation\n",
    "def accuracy(tau, sigma0, burnin=0.75):\n",
    "    manager = FighterManager(tau=tau, volatility=sigma0)\n",
    "    # burn-in rating updates\n",
    "    T = len(grouped_list)\n",
    "    n = int(T*burnin)\n",
    "    for period, group in grouped_list[:n]:\n",
    "        timestamp = period.strftime('%Y-%m-%d')\n",
    "        manager.update_fighters(timestamp, group)\n",
    "    # accuracy calculation\n",
    "    total_correct = total_eval = 0\n",
    "    for period, group in grouped_list[n:]:\n",
    "        if len(group) == 0:\n",
    "            continue\n",
    "        non_draw = group[group['outcome'] != 'draw']\n",
    "        p = non_draw['outcome'] == 'win'\n",
    "        fighters = non_draw['fighter']\n",
    "        opponents = non_draw['opponent']\n",
    "        competitors = pd.concat([fighters, opponents]).unique()\n",
    "        manager.add_fighters(competitors)\n",
    "        matchups_matrix = manager.get_matchups_matrix(competitors)\n",
    "        phat = np.array(\n",
    "            [\n",
    "                matchups_matrix.loc[fighter, opponent]\n",
    "                for fighter, opponent in zip(fighters, opponents)\n",
    "            ]\n",
    "        )\n",
    "        total_correct += sum((phat>0.5) == p)\n",
    "        total_eval += len(group)\n",
    "        timestamp = period.strftime('%Y-%m-%d')\n",
    "        manager.update_fighters(timestamp, group)\n",
    "    return total_correct/total_eval"
   ]
  },
  {
   "cell_type": "markdown",
   "metadata": {},
   "source": [
    "Our objective is quite expensive to compute, so we will use Nelder-Mead to optimize."
   ]
  },
  {
   "cell_type": "code",
   "execution_count": 7,
   "metadata": {},
   "outputs": [
    {
     "data": {
      "text/plain": [
       "       message: Optimization terminated successfully.\n",
       "       success: True\n",
       "        status: 0\n",
       "           fun: 2137.691467989795\n",
       "             x: [ 1.311e+00  2.956e-01]\n",
       "           nit: 39\n",
       "          nfev: 81\n",
       " final_simplex: (array([[ 1.311e+00,  2.956e-01],\n",
       "                       [ 1.311e+00,  2.956e-01],\n",
       "                       [ 1.311e+00,  2.956e-01]]), array([ 2.138e+03,  2.138e+03,  2.138e+03]))"
      ]
     },
     "execution_count": 7,
     "metadata": {},
     "output_type": "execute_result"
    }
   ],
   "source": [
    "minimize(\n",
    "    fun=lambda x: f(tau=x[0], sigma0=x[1]),\n",
    "    x0=[1, 0.25],\n",
    "    method='Nelder-Mead',\n",
    "    bounds=[(0.001, 2), (0.001, 0.5)]\n",
    ")"
   ]
  },
  {
   "cell_type": "code",
   "execution_count": 10,
   "metadata": {},
   "outputs": [
    {
     "data": {
      "text/plain": [
       "0.5552362707535121"
      ]
     },
     "execution_count": 10,
     "metadata": {},
     "output_type": "execute_result"
    }
   ],
   "source": [
    "accuracy(1.311, 0.2956)"
   ]
  },
  {
   "cell_type": "markdown",
   "metadata": {},
   "source": [
    "The optimal parameters are $\\tau=1.311$ and $\\sigma_0 = 0.2956$. Finally we can take a look at the ratings!"
   ]
  },
  {
   "cell_type": "code",
   "execution_count": 12,
   "metadata": {},
   "outputs": [
    {
     "data": {
      "application/vnd.microsoft.datawrangler.viewer.v0+json": {
       "columns": [
        {
         "name": "index",
         "rawType": "int64",
         "type": "integer"
        },
        {
         "name": "name",
         "rawType": "object",
         "type": "string"
        },
        {
         "name": "weight_class",
         "rawType": "object",
         "type": "unknown"
        },
        {
         "name": "current_rating",
         "rawType": "float64",
         "type": "float"
        },
        {
         "name": "peak_rating",
         "rawType": "float64",
         "type": "float"
        },
        {
         "name": "current_streak",
         "rawType": "int64",
         "type": "integer"
        },
        {
         "name": "best_streak",
         "rawType": "int64",
         "type": "integer"
        }
       ],
       "ref": "596afae3-a704-4419-ae91-e69b4603c49e",
       "rows": [
        [
         "416",
         "Jon Jones",
         "Heavyweight",
         "2845.4162995349343",
         "2845.4162995349343",
         "19",
         "19"
        ],
        [
         "1245",
         "Islam Makhachev",
         "Lightweight",
         "2753.456800970442",
         "2753.456800970442",
         "15",
         "15"
        ],
        [
         "750",
         "Khabib Nurmagomedov",
         "Lightweight",
         "2691.4689199840877",
         "2691.4689199840877",
         "13",
         "13"
        ],
        [
         "1171",
         "Leon Edwards",
         "Welterweight",
         "2320.9050442712505",
         "2690.4331733356485",
         "-2",
         "12"
        ],
        [
         "697",
         "Stipe Miocic",
         "Heavyweight",
         "2414.3684321098585",
         "2690.2821918082627",
         "-2",
         "6"
        ],
        [
         "1540",
         "Merab Dvalishvili",
         "Bantamweight",
         "2659.6614237104295",
         "2659.6614237104295",
         "13",
         "13"
        ],
        [
         "874",
         "Daniel Cormier",
         "Heavyweight",
         "2435.8896826451673",
         "2656.901103685551",
         "-2",
         "7"
        ],
        [
         "219",
         "Anderson Silva",
         "Middleweight",
         "1650.5539329513394",
         "2649.677123730451",
         "-3",
         "16"
        ],
        [
         "1902",
         "Ilia Topuria",
         "Lightweight",
         "2647.239095264849",
         "2647.239095264849",
         "9",
         "9"
        ],
        [
         "1274",
         "Kamaru Usman",
         "Welterweight",
         "2447.975758301498",
         "2642.396091300134",
         "1",
         "15"
        ],
        [
         "119",
         "Georges St-Pierre",
         "Middleweight",
         "2628.467367676616",
         "2628.467367676616",
         "13",
         "13"
        ],
        [
         "1312",
         "Francis Ngannou",
         "Heavyweight",
         "2578.5035174548493",
         "2578.5035174548493",
         "6",
         "6"
        ],
        [
         "1365",
         "Belal Muhammad",
         "Welterweight",
         "2379.554705716947",
         "2572.29032166847",
         "-1",
         "10"
        ],
        [
         "752",
         "Max Holloway",
         "Featherweight",
         "2451.641803396772",
         "2569.6700324029853",
         "-1",
         "13"
        ],
        [
         "565",
         "Charles Oliveira",
         "Lightweight",
         "2357.4579080433687",
         "2566.876148544952",
         "-1",
         "11"
        ],
        [
         "1415",
         "Alexander Volkanovski",
         "Featherweight",
         "2442.532861132242",
         "2564.354825955651",
         "1",
         "12"
        ],
        [
         "300",
         "Fabricio Werdum",
         "Heavyweight",
         "2095.70414869284",
         "2555.0747971284227",
         "1",
         "6"
        ],
        [
         "591",
         "Dustin Poirier",
         "Lightweight",
         "2348.8827490470712",
         "2539.9331087407045",
         "-1",
         "5"
        ],
        [
         "621",
         "Chris Weidman",
         "Middleweight",
         "1687.8684007207119",
         "2536.627994862577",
         "-1",
         "9"
        ],
        [
         "1587",
         "Magomed Ankalaev",
         "Light Heavyweight",
         "2493.115811508903",
         "2493.115811508903",
         "12",
         "12"
        ],
        [
         "1872",
         "Khamzat Chimaev",
         "Middleweight",
         "2492.7030206758222",
         "2492.7030206758222",
         "8",
         "8"
        ],
        [
         "1920",
         "Shavkat Rakhmonov",
         "Welterweight",
         "2488.67419553909",
         "2488.67419553909",
         "7",
         "7"
        ],
        [
         "1865",
         "Jiri Prochazka",
         "Light Heavyweight",
         "2255.0215903549106",
         "2480.6260361672967",
         "1",
         "3"
        ],
        [
         "1568",
         "Israel Adesanya",
         "Middleweight",
         "2099.8638748862722",
         "2480.557751094667",
         "-3",
         "9"
        ],
        [
         "382",
         "Cain Velasquez",
         "Heavyweight",
         "2093.0358699202266",
         "2476.1732010909836",
         "-1",
         "7"
        ],
        [
         "863",
         "Tyron Woodley",
         "Welterweight",
         "1976.5757001692305",
         "2474.4047699382118",
         "-4",
         "6"
        ],
        [
         "1018",
         "Aljamain Sterling",
         "Featherweight",
         "2241.5688688413975",
         "2471.813987322175",
         "-1",
         "9"
        ],
        [
         "1899",
         "Dricus Du Plessis",
         "Middleweight",
         "2471.40618972753",
         "2471.40618972753",
         "9",
         "9"
        ],
        [
         "317",
         "Anthony Johnson",
         "Light Heavyweight",
         "2355.3747514016295",
         "2469.5919137435394",
         "-1",
         "3"
        ],
        [
         "1487",
         "Justin Gaethje",
         "Lightweight",
         "2417.608414318359",
         "2467.873971584738",
         "1",
         "4"
        ],
        [
         "844",
         "Robert Whittaker",
         "Middleweight",
         "2238.0317637195053",
         "2467.123215489512",
         "-1",
         "9"
        ],
        [
         "666",
         "Tony Ferguson",
         "Welterweight",
         "1627.145609132427",
         "2455.734257986812",
         "-8",
         "12"
        ],
        [
         "2022",
         "Alex Pereira",
         "Light Heavyweight",
         "2374.51841461442",
         "2452.813378178018",
         "-1",
         "5"
        ],
        [
         "1490",
         "Marlon Moraes",
         "Bantamweight",
         "1856.2082304345959",
         "2445.276037137283",
         "-4",
         "4"
        ],
        [
         "1204",
         "Henry Cejudo",
         "Bantamweight",
         "2045.035419630518",
         "2435.6095214806237",
         "-3",
         "6"
        ],
        [
         "1801",
         "Sean Brady",
         "Welterweight",
         "2426.2835957649304",
         "2426.2835957649304",
         "3",
         "5"
        ],
        [
         "791",
         "Glover Teixeira",
         "Light Heavyweight",
         "2129.6666930478464",
         "2424.0506793803897",
         "-2",
         "6"
        ],
        [
         "658",
         "Jose Aldo",
         "Featherweight",
         "2041.7917575544284",
         "2423.842958846346",
         "-2",
         "7"
        ],
        [
         "2027",
         "Chris Curtis",
         "Welterweight",
         "1878.9853942381117",
         "2415.5041231670416",
         "1",
         "3"
        ],
        [
         "919",
         "Luke Rockhold",
         "Middleweight",
         "1760.708326638177",
         "2414.933543610704",
         "-3",
         "5"
        ],
        [
         "70",
         "Robbie Lawler",
         "Welterweight",
         "1875.926443303566",
         "2412.806344374042",
         "1",
         "5"
        ],
        [
         "425",
         "Junior Dos Santos",
         "Heavyweight",
         "1883.200116770096",
         "2411.3423659145537",
         "-4",
         "9"
        ],
        [
         "905",
         "Yoel Romero",
         "Middleweight",
         "2123.053248533514",
         "2411.296096703233",
         "-3",
         "8"
        ],
        [
         "1738",
         "Movsar Evloev",
         "Featherweight",
         "2403.2903010895343",
         "2403.2903010895343",
         "9",
         "9"
        ],
        [
         "428",
         "Rafael Dos Anjos",
         "Welterweight",
         "1843.3176276404959",
         "2397.0198494945794",
         "-3",
         "5"
        ],
        [
         "733",
         "TJ Dillashaw",
         "Bantamweight",
         "2174.453428120561",
         "2395.974487733577",
         "-1",
         "4"
        ],
        [
         "1239",
         "Brian Ortega",
         "Featherweight",
         "2107.3700749234295",
         "2392.473518938436",
         "-1",
         "6"
        ],
        [
         "1551",
         "Sean O'Malley",
         "Bantamweight",
         "2282.9405429667404",
         "2385.905070181687",
         "-2",
         "6"
        ],
        [
         "649",
         "Anthony Pettis",
         "Welterweight",
         "2131.112367464393",
         "2383.568173283614",
         "2",
         "5"
        ],
        [
         "1887",
         "Tom Aspinall",
         "Heavyweight",
         "2383.4389721961834",
         "2383.4389721961834",
         "3",
         "5"
        ]
       ],
       "shape": {
        "columns": 6,
        "rows": 2413
       }
      },
      "text/html": [
       "<div>\n",
       "<style scoped>\n",
       "    .dataframe tbody tr th:only-of-type {\n",
       "        vertical-align: middle;\n",
       "    }\n",
       "\n",
       "    .dataframe tbody tr th {\n",
       "        vertical-align: top;\n",
       "    }\n",
       "\n",
       "    .dataframe thead th {\n",
       "        text-align: right;\n",
       "    }\n",
       "</style>\n",
       "<table border=\"1\" class=\"dataframe\">\n",
       "  <thead>\n",
       "    <tr style=\"text-align: right;\">\n",
       "      <th></th>\n",
       "      <th>name</th>\n",
       "      <th>weight_class</th>\n",
       "      <th>current_rating</th>\n",
       "      <th>peak_rating</th>\n",
       "      <th>current_streak</th>\n",
       "      <th>best_streak</th>\n",
       "    </tr>\n",
       "  </thead>\n",
       "  <tbody>\n",
       "    <tr>\n",
       "      <th>416</th>\n",
       "      <td>Jon Jones</td>\n",
       "      <td>Heavyweight</td>\n",
       "      <td>2845.416300</td>\n",
       "      <td>2845.416300</td>\n",
       "      <td>19</td>\n",
       "      <td>19</td>\n",
       "    </tr>\n",
       "    <tr>\n",
       "      <th>1245</th>\n",
       "      <td>Islam Makhachev</td>\n",
       "      <td>Lightweight</td>\n",
       "      <td>2753.456801</td>\n",
       "      <td>2753.456801</td>\n",
       "      <td>15</td>\n",
       "      <td>15</td>\n",
       "    </tr>\n",
       "    <tr>\n",
       "      <th>750</th>\n",
       "      <td>Khabib Nurmagomedov</td>\n",
       "      <td>Lightweight</td>\n",
       "      <td>2691.468920</td>\n",
       "      <td>2691.468920</td>\n",
       "      <td>13</td>\n",
       "      <td>13</td>\n",
       "    </tr>\n",
       "    <tr>\n",
       "      <th>1171</th>\n",
       "      <td>Leon Edwards</td>\n",
       "      <td>Welterweight</td>\n",
       "      <td>2320.905044</td>\n",
       "      <td>2690.433173</td>\n",
       "      <td>-2</td>\n",
       "      <td>12</td>\n",
       "    </tr>\n",
       "    <tr>\n",
       "      <th>697</th>\n",
       "      <td>Stipe Miocic</td>\n",
       "      <td>Heavyweight</td>\n",
       "      <td>2414.368432</td>\n",
       "      <td>2690.282192</td>\n",
       "      <td>-2</td>\n",
       "      <td>6</td>\n",
       "    </tr>\n",
       "    <tr>\n",
       "      <th>...</th>\n",
       "      <td>...</td>\n",
       "      <td>...</td>\n",
       "      <td>...</td>\n",
       "      <td>...</td>\n",
       "      <td>...</td>\n",
       "      <td>...</td>\n",
       "    </tr>\n",
       "    <tr>\n",
       "      <th>1949</th>\n",
       "      <td>Gloria de Paula</td>\n",
       "      <td>Women's Strawweight</td>\n",
       "      <td>1140.437373</td>\n",
       "      <td>1152.740438</td>\n",
       "      <td>-1</td>\n",
       "      <td>1</td>\n",
       "    </tr>\n",
       "    <tr>\n",
       "      <th>547</th>\n",
       "      <td>Ronys Torres</td>\n",
       "      <td>Lightweight</td>\n",
       "      <td>1150.258032</td>\n",
       "      <td>1150.258032</td>\n",
       "      <td>-2</td>\n",
       "      <td>0</td>\n",
       "    </tr>\n",
       "    <tr>\n",
       "      <th>1392</th>\n",
       "      <td>Chris Avila</td>\n",
       "      <td>Featherweight</td>\n",
       "      <td>1079.050385</td>\n",
       "      <td>1124.208036</td>\n",
       "      <td>-2</td>\n",
       "      <td>0</td>\n",
       "    </tr>\n",
       "    <tr>\n",
       "      <th>1744</th>\n",
       "      <td>Sung Bin Jo</td>\n",
       "      <td>Featherweight</td>\n",
       "      <td>1107.148102</td>\n",
       "      <td>1107.148102</td>\n",
       "      <td>-1</td>\n",
       "      <td>0</td>\n",
       "    </tr>\n",
       "    <tr>\n",
       "      <th>1560</th>\n",
       "      <td>Wulijiburen</td>\n",
       "      <td>Bantamweight</td>\n",
       "      <td>961.421757</td>\n",
       "      <td>1106.748271</td>\n",
       "      <td>-3</td>\n",
       "      <td>0</td>\n",
       "    </tr>\n",
       "  </tbody>\n",
       "</table>\n",
       "<p>2413 rows × 6 columns</p>\n",
       "</div>"
      ],
      "text/plain": [
       "                     name         weight_class  current_rating  peak_rating  \\\n",
       "416             Jon Jones          Heavyweight     2845.416300  2845.416300   \n",
       "1245      Islam Makhachev          Lightweight     2753.456801  2753.456801   \n",
       "750   Khabib Nurmagomedov          Lightweight     2691.468920  2691.468920   \n",
       "1171         Leon Edwards         Welterweight     2320.905044  2690.433173   \n",
       "697          Stipe Miocic          Heavyweight     2414.368432  2690.282192   \n",
       "...                   ...                  ...             ...          ...   \n",
       "1949      Gloria de Paula  Women's Strawweight     1140.437373  1152.740438   \n",
       "547          Ronys Torres          Lightweight     1150.258032  1150.258032   \n",
       "1392          Chris Avila        Featherweight     1079.050385  1124.208036   \n",
       "1744          Sung Bin Jo        Featherweight     1107.148102  1107.148102   \n",
       "1560          Wulijiburen         Bantamweight      961.421757  1106.748271   \n",
       "\n",
       "      current_streak  best_streak  \n",
       "416               19           19  \n",
       "1245              15           15  \n",
       "750               13           13  \n",
       "1171              -2           12  \n",
       "697               -2            6  \n",
       "...              ...          ...  \n",
       "1949              -1            1  \n",
       "547               -2            0  \n",
       "1392              -2            0  \n",
       "1744              -1            0  \n",
       "1560              -3            0  \n",
       "\n",
       "[2413 rows x 6 columns]"
      ]
     },
     "execution_count": 12,
     "metadata": {},
     "output_type": "execute_result"
    }
   ],
   "source": [
    "manager = FighterManager(volatility=0.2956, tau=1.311)\n",
    "for period, group in fights_grouped:\n",
    "    timestamp = period.strftime('%Y-%m-%d')\n",
    "    manager.update_fighters(timestamp, group)\n",
    "\n",
    "ratings_df = pd.DataFrame(\n",
    "        {'name': name,\n",
    "         'weight_class': fighter.weight_class,\n",
    "         'current_rating': fighter.rating,\n",
    "         'peak_rating': fighter.peak_rating,\n",
    "         'current_streak': fighter.streak,\n",
    "         'best_streak': fighter.best_streak}\n",
    "        for name, fighter in manager.items()\n",
    ")\n",
    "\n",
    "ratings_df.sort_values('peak_rating', ascending=False)"
   ]
  }
 ],
 "metadata": {
  "kernelspec": {
   "display_name": ".env",
   "language": "python",
   "name": "python3"
  },
  "language_info": {
   "codemirror_mode": {
    "name": "ipython",
    "version": 3
   },
   "file_extension": ".py",
   "mimetype": "text/x-python",
   "name": "python",
   "nbconvert_exporter": "python",
   "pygments_lexer": "ipython3",
   "version": "3.13.5"
  }
 },
 "nbformat": 4,
 "nbformat_minor": 2
}
