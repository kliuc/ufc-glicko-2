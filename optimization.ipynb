{
 "cells": [
  {
   "cell_type": "markdown",
   "metadata": {},
   "source": [
    "In this notebook we will optimize the parameters of the rating system"
   ]
  },
  {
   "cell_type": "markdown",
   "metadata": {},
   "source": [
    "## Imports"
   ]
  },
  {
   "cell_type": "code",
   "execution_count": 1,
   "metadata": {},
   "outputs": [],
   "source": [
    "from glicko2_ufc import FighterManager\n",
    "import pandas as pd\n",
    "from datetime import datetime\n",
    "import numpy as np\n",
    "from scipy.optimize import minimize"
   ]
  },
  {
   "cell_type": "markdown",
   "metadata": {},
   "source": [
    "## Data"
   ]
  },
  {
   "cell_type": "markdown",
   "metadata": {},
   "source": [
    "First load the data"
   ]
  },
  {
   "cell_type": "code",
   "execution_count": 2,
   "metadata": {},
   "outputs": [
    {
     "data": {
      "application/vnd.microsoft.datawrangler.viewer.v0+json": {
       "columns": [
        {
         "name": "index",
         "rawType": "int64",
         "type": "integer"
        },
        {
         "name": "event",
         "rawType": "object",
         "type": "string"
        },
        {
         "name": "date",
         "rawType": "datetime64[ns]",
         "type": "datetime"
        },
        {
         "name": "fighter",
         "rawType": "object",
         "type": "string"
        },
        {
         "name": "opponent",
         "rawType": "object",
         "type": "string"
        },
        {
         "name": "weight_class",
         "rawType": "object",
         "type": "string"
        },
        {
         "name": "outcome",
         "rawType": "object",
         "type": "string"
        },
        {
         "name": "method",
         "rawType": "object",
         "type": "string"
        }
       ],
       "ref": "cd6117bc-2552-4366-b922-8c2c84469f32",
       "rows": [
        [
         "8237",
         "UFC 2: No Way Out",
         "1994-03-11 00:00:00",
         "Scott Morris",
         "Sean Daugherty",
         "Open Weight",
         "win",
         "SUB"
        ],
        [
         "8223",
         "UFC 2: No Way Out",
         "1994-03-11 00:00:00",
         "Royce Gracie",
         "Patrick Smith",
         "Open Weight",
         "win",
         "KO/TKO"
        ],
        [
         "8224",
         "UFC 2: No Way Out",
         "1994-03-11 00:00:00",
         "Royce Gracie",
         "Remco Pardoel",
         "Open Weight",
         "win",
         "SUB"
        ],
        [
         "8225",
         "UFC 2: No Way Out",
         "1994-03-11 00:00:00",
         "Patrick Smith",
         "Johnny Rhodes",
         "Open Weight",
         "win",
         "SUB"
        ],
        [
         "8226",
         "UFC 2: No Way Out",
         "1994-03-11 00:00:00",
         "Royce Gracie",
         "Jason DeLucia",
         "Open Weight",
         "win",
         "SUB"
        ]
       ],
       "shape": {
        "columns": 7,
        "rows": 5
       }
      },
      "text/html": [
       "<div>\n",
       "<style scoped>\n",
       "    .dataframe tbody tr th:only-of-type {\n",
       "        vertical-align: middle;\n",
       "    }\n",
       "\n",
       "    .dataframe tbody tr th {\n",
       "        vertical-align: top;\n",
       "    }\n",
       "\n",
       "    .dataframe thead th {\n",
       "        text-align: right;\n",
       "    }\n",
       "</style>\n",
       "<table border=\"1\" class=\"dataframe\">\n",
       "  <thead>\n",
       "    <tr style=\"text-align: right;\">\n",
       "      <th></th>\n",
       "      <th>event</th>\n",
       "      <th>date</th>\n",
       "      <th>fighter</th>\n",
       "      <th>opponent</th>\n",
       "      <th>weight_class</th>\n",
       "      <th>outcome</th>\n",
       "      <th>method</th>\n",
       "    </tr>\n",
       "  </thead>\n",
       "  <tbody>\n",
       "    <tr>\n",
       "      <th>8237</th>\n",
       "      <td>UFC 2: No Way Out</td>\n",
       "      <td>1994-03-11</td>\n",
       "      <td>Scott Morris</td>\n",
       "      <td>Sean Daugherty</td>\n",
       "      <td>Open Weight</td>\n",
       "      <td>win</td>\n",
       "      <td>SUB</td>\n",
       "    </tr>\n",
       "    <tr>\n",
       "      <th>8223</th>\n",
       "      <td>UFC 2: No Way Out</td>\n",
       "      <td>1994-03-11</td>\n",
       "      <td>Royce Gracie</td>\n",
       "      <td>Patrick Smith</td>\n",
       "      <td>Open Weight</td>\n",
       "      <td>win</td>\n",
       "      <td>KO/TKO</td>\n",
       "    </tr>\n",
       "    <tr>\n",
       "      <th>8224</th>\n",
       "      <td>UFC 2: No Way Out</td>\n",
       "      <td>1994-03-11</td>\n",
       "      <td>Royce Gracie</td>\n",
       "      <td>Remco Pardoel</td>\n",
       "      <td>Open Weight</td>\n",
       "      <td>win</td>\n",
       "      <td>SUB</td>\n",
       "    </tr>\n",
       "    <tr>\n",
       "      <th>8225</th>\n",
       "      <td>UFC 2: No Way Out</td>\n",
       "      <td>1994-03-11</td>\n",
       "      <td>Patrick Smith</td>\n",
       "      <td>Johnny Rhodes</td>\n",
       "      <td>Open Weight</td>\n",
       "      <td>win</td>\n",
       "      <td>SUB</td>\n",
       "    </tr>\n",
       "    <tr>\n",
       "      <th>8226</th>\n",
       "      <td>UFC 2: No Way Out</td>\n",
       "      <td>1994-03-11</td>\n",
       "      <td>Royce Gracie</td>\n",
       "      <td>Jason DeLucia</td>\n",
       "      <td>Open Weight</td>\n",
       "      <td>win</td>\n",
       "      <td>SUB</td>\n",
       "    </tr>\n",
       "  </tbody>\n",
       "</table>\n",
       "</div>"
      ],
      "text/plain": [
       "                  event       date        fighter        opponent  \\\n",
       "8237  UFC 2: No Way Out 1994-03-11   Scott Morris  Sean Daugherty   \n",
       "8223  UFC 2: No Way Out 1994-03-11   Royce Gracie   Patrick Smith   \n",
       "8224  UFC 2: No Way Out 1994-03-11   Royce Gracie   Remco Pardoel   \n",
       "8225  UFC 2: No Way Out 1994-03-11  Patrick Smith   Johnny Rhodes   \n",
       "8226  UFC 2: No Way Out 1994-03-11   Royce Gracie   Jason DeLucia   \n",
       "\n",
       "     weight_class outcome  method  \n",
       "8237  Open Weight     win     SUB  \n",
       "8223  Open Weight     win  KO/TKO  \n",
       "8224  Open Weight     win     SUB  \n",
       "8225  Open Weight     win     SUB  \n",
       "8226  Open Weight     win     SUB  "
      ]
     },
     "execution_count": 2,
     "metadata": {},
     "output_type": "execute_result"
    }
   ],
   "source": [
    "fights_df = pd.read_json('data/fights.json').sort_values('date')\n",
    "fights_df.head()"
   ]
  },
  {
   "cell_type": "markdown",
   "metadata": {},
   "source": [
    "According to [Wikipedia](https://en.wikipedia.org/wiki/Ultimate_Fighting_Championship), UFC 28 (November 17, 2000) was the first UFC event under the \"Unified Rules of MMA\". This is the current (albeit with minor changes) ruleset used by the UFC today (2025). For the purposes of this project, we will only consider fights taking place on or after November 17, 2000."
   ]
  },
  {
   "cell_type": "code",
   "execution_count": 3,
   "metadata": {},
   "outputs": [
    {
     "data": {
      "application/vnd.microsoft.datawrangler.viewer.v0+json": {
       "columns": [
        {
         "name": "index",
         "rawType": "int64",
         "type": "integer"
        },
        {
         "name": "event",
         "rawType": "object",
         "type": "string"
        },
        {
         "name": "date",
         "rawType": "datetime64[ns]",
         "type": "datetime"
        },
        {
         "name": "fighter",
         "rawType": "object",
         "type": "string"
        },
        {
         "name": "opponent",
         "rawType": "object",
         "type": "string"
        },
        {
         "name": "weight_class",
         "rawType": "object",
         "type": "string"
        },
        {
         "name": "outcome",
         "rawType": "object",
         "type": "string"
        },
        {
         "name": "method",
         "rawType": "object",
         "type": "string"
        }
       ],
       "ref": "e3e78e1d-4bf4-4c33-ae03-131632dc79bf",
       "rows": [
        [
         "7978",
         "UFC 28: High Stakes",
         "2000-11-17 00:00:00",
         "Randy Couture",
         "Kevin Randleman",
         "Heavyweight",
         "win",
         "KO/TKO"
        ],
        [
         "7984",
         "UFC 28: High Stakes",
         "2000-11-17 00:00:00",
         "Ben Earwood",
         "Chris Lytle",
         "Welterweight",
         "win",
         "U-DEC"
        ],
        [
         "7983",
         "UFC 28: High Stakes",
         "2000-11-17 00:00:00",
         "Mark Hughes",
         "Alex Stiebling",
         "Middleweight",
         "win",
         "U-DEC"
        ],
        [
         "7982",
         "UFC 28: High Stakes",
         "2000-11-17 00:00:00",
         "Jens Pulver",
         "John Lewis",
         "Lightweight",
         "win",
         "KO/TKO"
        ],
        [
         "7981",
         "UFC 28: High Stakes",
         "2000-11-17 00:00:00",
         "Andrei Arlovski",
         "Aaron Brink",
         "Heavyweight",
         "win",
         "SUB"
        ]
       ],
       "shape": {
        "columns": 7,
        "rows": 5
       }
      },
      "text/html": [
       "<div>\n",
       "<style scoped>\n",
       "    .dataframe tbody tr th:only-of-type {\n",
       "        vertical-align: middle;\n",
       "    }\n",
       "\n",
       "    .dataframe tbody tr th {\n",
       "        vertical-align: top;\n",
       "    }\n",
       "\n",
       "    .dataframe thead th {\n",
       "        text-align: right;\n",
       "    }\n",
       "</style>\n",
       "<table border=\"1\" class=\"dataframe\">\n",
       "  <thead>\n",
       "    <tr style=\"text-align: right;\">\n",
       "      <th></th>\n",
       "      <th>event</th>\n",
       "      <th>date</th>\n",
       "      <th>fighter</th>\n",
       "      <th>opponent</th>\n",
       "      <th>weight_class</th>\n",
       "      <th>outcome</th>\n",
       "      <th>method</th>\n",
       "    </tr>\n",
       "  </thead>\n",
       "  <tbody>\n",
       "    <tr>\n",
       "      <th>7978</th>\n",
       "      <td>UFC 28: High Stakes</td>\n",
       "      <td>2000-11-17</td>\n",
       "      <td>Randy Couture</td>\n",
       "      <td>Kevin Randleman</td>\n",
       "      <td>Heavyweight</td>\n",
       "      <td>win</td>\n",
       "      <td>KO/TKO</td>\n",
       "    </tr>\n",
       "    <tr>\n",
       "      <th>7984</th>\n",
       "      <td>UFC 28: High Stakes</td>\n",
       "      <td>2000-11-17</td>\n",
       "      <td>Ben Earwood</td>\n",
       "      <td>Chris Lytle</td>\n",
       "      <td>Welterweight</td>\n",
       "      <td>win</td>\n",
       "      <td>U-DEC</td>\n",
       "    </tr>\n",
       "    <tr>\n",
       "      <th>7983</th>\n",
       "      <td>UFC 28: High Stakes</td>\n",
       "      <td>2000-11-17</td>\n",
       "      <td>Mark Hughes</td>\n",
       "      <td>Alex Stiebling</td>\n",
       "      <td>Middleweight</td>\n",
       "      <td>win</td>\n",
       "      <td>U-DEC</td>\n",
       "    </tr>\n",
       "    <tr>\n",
       "      <th>7982</th>\n",
       "      <td>UFC 28: High Stakes</td>\n",
       "      <td>2000-11-17</td>\n",
       "      <td>Jens Pulver</td>\n",
       "      <td>John Lewis</td>\n",
       "      <td>Lightweight</td>\n",
       "      <td>win</td>\n",
       "      <td>KO/TKO</td>\n",
       "    </tr>\n",
       "    <tr>\n",
       "      <th>7981</th>\n",
       "      <td>UFC 28: High Stakes</td>\n",
       "      <td>2000-11-17</td>\n",
       "      <td>Andrei Arlovski</td>\n",
       "      <td>Aaron Brink</td>\n",
       "      <td>Heavyweight</td>\n",
       "      <td>win</td>\n",
       "      <td>SUB</td>\n",
       "    </tr>\n",
       "  </tbody>\n",
       "</table>\n",
       "</div>"
      ],
      "text/plain": [
       "                    event       date          fighter         opponent  \\\n",
       "7978  UFC 28: High Stakes 2000-11-17    Randy Couture  Kevin Randleman   \n",
       "7984  UFC 28: High Stakes 2000-11-17      Ben Earwood      Chris Lytle   \n",
       "7983  UFC 28: High Stakes 2000-11-17      Mark Hughes   Alex Stiebling   \n",
       "7982  UFC 28: High Stakes 2000-11-17      Jens Pulver       John Lewis   \n",
       "7981  UFC 28: High Stakes 2000-11-17  Andrei Arlovski      Aaron Brink   \n",
       "\n",
       "      weight_class outcome  method  \n",
       "7978   Heavyweight     win  KO/TKO  \n",
       "7984  Welterweight     win   U-DEC  \n",
       "7983  Middleweight     win   U-DEC  \n",
       "7982   Lightweight     win  KO/TKO  \n",
       "7981   Heavyweight     win     SUB  "
      ]
     },
     "execution_count": 3,
     "metadata": {},
     "output_type": "execute_result"
    }
   ],
   "source": [
    "fights_df = fights_df[fights_df['date'] >= datetime(2000, 11, 17)]\n",
    "fights_df.head()"
   ]
  },
  {
   "cell_type": "markdown",
   "metadata": {},
   "source": [
    "Further we will treat fights graded \"No Contest\" as if the fight never occured (and thus exclude them)."
   ]
  },
  {
   "cell_type": "code",
   "execution_count": 4,
   "metadata": {},
   "outputs": [],
   "source": [
    "fights_df = fights_df[fights_df['outcome'] != 'nc']"
   ]
  },
  {
   "cell_type": "markdown",
   "metadata": {},
   "source": [
    "## Optimizing Algorithm Parameters"
   ]
  },
  {
   "cell_type": "markdown",
   "metadata": {},
   "source": [
    "First we group the data into ten-week rating periods. The choice of ten-week durations is motivated by:\n",
    "1. The rating periods (for Glicko-2) should be chosen so that there is possibility of reasonable change in ability of fighters.\n",
    "2. An average UFC fighter's fight camp lasts 8-10 weeks.\n",
    "\n",
    "So we assume ten weeks is a sufficient amount of time for fighters to improve their ability, changes which will be captured by the rating algorithm."
   ]
  },
  {
   "cell_type": "code",
   "execution_count": 12,
   "metadata": {},
   "outputs": [],
   "source": [
    "fights_grouped = fights_df.groupby(pd.Grouper(key='date', freq='10W'))\n",
    "grouped_list = list(fights_grouped)"
   ]
  },
  {
   "cell_type": "markdown",
   "metadata": {},
   "source": [
    "We want to choose parameters tau and initial volatility to minimize predictive discrepancy of the rating algorithm. The parameters are:\n",
    "- $\\tau$: scales change in volatility over time (smaller $\\tau$ corresponds to smaller change in volatility)\n",
    "- $\\sigma_0$: intial volatility value assigned to new fighers in the system\n",
    "\n",
    "The predictive descrepancy objective $f(\\tau, \\sigma_0)$ will be computed as such:\n",
    "- Define $S = \\{x_1 \\ldots x_m\\}$ the set of all $m$ fighters\n",
    "- Define $S_n = \\{s_1=(x_i, x_j),s_2=(x_k, x_l) \\ldots\\}$ the set of pairs of fighters that fought during the $n$-th rating period\n",
    "- Define $\\hat{p}_n:S_{n+1} \\rightarrow (0,1)$ the predicted outcome of the fight between two fighters after the $n$-th rating update. So $\\hat{p}_5(x_1, x_2) = 0.7$ means that after the $5$-th rating update, the predicted probability of fighter 1 beating fighter 2 is 70%. Naturally $p$ is the true binary outcome.\n",
    "- $f(\\tau, \\sigma_0) = \\sum_{t=n}^{T-1} \\sum_{s\\in S_{n+1}} L(\\hat{p}_n(s),p(s))$\n",
    "\n",
    "Here $T$ is the total amount of rating periods and $L$ is a loss function. We will use cross-entropy. $n$ is effectively a burn-in for the rating algorithm. We will choose $n$ to be the first 75% of the rating periods. Draws will not be used in loss computation.\n",
    "\n",
    "Additionally backtesting accuracy can be computed as $\\sum_{t=n}^{T-1} \\sum_{s\\in S_{n+1}} 1\\{\\hat{p}_n(s) == p(s)\\}$"
   ]
  },
  {
   "cell_type": "code",
   "execution_count": 15,
   "metadata": {},
   "outputs": [],
   "source": [
    "def cross_entropy_loss(phat, p):\n",
    "    return -(p*np.log(phat) + (1-p)*np.log(1-phat)).sum()\n",
    "\n",
    "\n",
    "def f(tau, sigma0, burnin=0.75, loss=cross_entropy_loss):\n",
    "    manager = FighterManager(tau=tau, volatility=sigma0)\n",
    "\n",
    "    # burn-in rating updates\n",
    "    T = len(grouped_list)\n",
    "    n = int(T*burnin)\n",
    "    for period, group in grouped_list[:n]:\n",
    "        timestamp = period.strftime('%Y-%m-%d')\n",
    "        manager.update_fighters(timestamp, group)\n",
    "\n",
    "    # loss calculation\n",
    "    total_loss = 0\n",
    "    for period, group in grouped_list[n:]:\n",
    "        if len(group) == 0:\n",
    "            continue\n",
    "\n",
    "        non_draw = group[group['outcome'] != 'draw']\n",
    "        p = non_draw['outcome'] == 'win'\n",
    "\n",
    "        fighters = non_draw['fighter']\n",
    "        opponents = non_draw['opponent']\n",
    "        manager.add_fighters(list(fighters)+list(opponents))\n",
    "        phat = non_draw.apply(lambda x: manager[x['fighter']].p_win(manager[x['opponent']]), axis=1)\n",
    "        \n",
    "        total_loss += loss(phat, p)\n",
    "\n",
    "        timestamp = period.strftime('%Y-%m-%d')\n",
    "        manager.update_fighters(timestamp, group)\n",
    "\n",
    "    return total_loss\n",
    "\n",
    "\n",
    "def accuracy(tau, sigma0, burnin=0.75, loss=cross_entropy_loss):\n",
    "    manager = FighterManager(tau=tau, volatility=sigma0)\n",
    "\n",
    "    # burn-in rating updates\n",
    "    T = len(grouped_list)\n",
    "    n = int(T*burnin)\n",
    "    for period, group in grouped_list[:n]:\n",
    "        timestamp = period.strftime('%Y-%m-%d')\n",
    "        manager.update_fighters(timestamp, group)\n",
    "\n",
    "    # accuracy calculation\n",
    "    total_correct = total_eval = 0\n",
    "    for period, group in grouped_list[n:]:\n",
    "        if len(group) == 0:\n",
    "            continue\n",
    "\n",
    "        non_draw = group[group['outcome'] != 'draw']\n",
    "        p = non_draw['outcome'] == 'win'\n",
    "\n",
    "        fighters = non_draw['fighter']\n",
    "        opponents = non_draw['opponent']\n",
    "        manager.add_fighters(list(fighters)+list(opponents))\n",
    "        phat = non_draw.apply(lambda x: manager[x['fighter']].p_win(manager[x['opponent']]), axis=1)\n",
    "        \n",
    "        total_correct += sum((phat>0.5) == p)\n",
    "        total_eval += len(group)\n",
    "\n",
    "        timestamp = period.strftime('%Y-%m-%d')\n",
    "        manager.update_fighters(timestamp, group)\n",
    "\n",
    "    return total_correct/total_eval"
   ]
  },
  {
   "cell_type": "markdown",
   "metadata": {},
   "source": [
    "Our objective is quite expensive to compute, so we will use Nelder-Mead to optimize."
   ]
  },
  {
   "cell_type": "code",
   "execution_count": 24,
   "metadata": {},
   "outputs": [
    {
     "data": {
      "text/plain": [
       "       message: Optimization terminated successfully.\n",
       "       success: True\n",
       "        status: 0\n",
       "           fun: 2130.0931079782135\n",
       "             x: [ 1.860e+00  3.001e-01]\n",
       "           nit: 42\n",
       "          nfev: 86\n",
       " final_simplex: (array([[ 1.860e+00,  3.001e-01],\n",
       "                       [ 1.860e+00,  3.001e-01],\n",
       "                       [ 1.860e+00,  3.001e-01]]), array([ 2.130e+03,  2.130e+03,  2.130e+03]))"
      ]
     },
     "execution_count": 24,
     "metadata": {},
     "output_type": "execute_result"
    }
   ],
   "source": [
    "minimize(fun=lambda x: f(tau=x[0], sigma0=x[1]),\n",
    "         x0=[1, 0.25], method='Nelder-Mead', bounds=[(0.001, 2), (0.001, 0.5)])"
   ]
  },
  {
   "cell_type": "code",
   "execution_count": 25,
   "metadata": {},
   "outputs": [
    {
     "data": {
      "text/plain": [
       "0.5532051282051282"
      ]
     },
     "execution_count": 25,
     "metadata": {},
     "output_type": "execute_result"
    }
   ],
   "source": [
    "accuracy(1.86, 0.3001)"
   ]
  },
  {
   "cell_type": "markdown",
   "metadata": {},
   "source": [
    "The optimal parameters are $\\tau=1.86$ and $\\sigma_0 = 0.3001$. Finally we can take a look at the ratings!"
   ]
  },
  {
   "cell_type": "code",
   "execution_count": 27,
   "metadata": {},
   "outputs": [
    {
     "data": {
      "application/vnd.microsoft.datawrangler.viewer.v0+json": {
       "columns": [
        {
         "name": "index",
         "rawType": "int64",
         "type": "integer"
        },
        {
         "name": "name",
         "rawType": "object",
         "type": "string"
        },
        {
         "name": "weight_class",
         "rawType": "object",
         "type": "unknown"
        },
        {
         "name": "current_rating",
         "rawType": "float64",
         "type": "float"
        },
        {
         "name": "peak_rating",
         "rawType": "float64",
         "type": "float"
        },
        {
         "name": "current_streak",
         "rawType": "int64",
         "type": "integer"
        },
        {
         "name": "best_streak",
         "rawType": "int64",
         "type": "integer"
        }
       ],
       "ref": "a1374765-f162-4be5-8cb9-2cfea63f470c",
       "rows": [
        [
         "416",
         "Jon Jones",
         "Heavyweight",
         "2840.742073035798",
         "2840.742073035798",
         "19",
         "19"
        ],
        [
         "1245",
         "Islam Makhachev",
         "Lightweight",
         "2753.1016371791547",
         "2753.1016371791547",
         "15",
         "15"
        ],
        [
         "750",
         "Khabib Nurmagomedov",
         "Lightweight",
         "2694.319145086116",
         "2694.319145086116",
         "13",
         "13"
        ],
        [
         "1171",
         "Leon Edwards",
         "Welterweight",
         "2325.2509028459135",
         "2691.006957267472",
         "-2",
         "12"
        ],
        [
         "697",
         "Stipe Miocic",
         "Heavyweight",
         "2415.1114090815104",
         "2690.9500404783357",
         "-2",
         "6"
        ],
        [
         "1540",
         "Merab Dvalishvili",
         "Bantamweight",
         "2668.9744034917594",
         "2668.9744034917594",
         "13",
         "13"
        ],
        [
         "874",
         "Daniel Cormier",
         "Heavyweight",
         "2437.5367698488417",
         "2661.2107555647867",
         "-2",
         "7"
        ],
        [
         "219",
         "Anderson Silva",
         "Middleweight",
         "1646.7041171393832",
         "2653.499183947916",
         "-3",
         "16"
        ],
        [
         "1902",
         "Ilia Topuria",
         "Lightweight",
         "2651.3583177461223",
         "2651.3583177461223",
         "9",
         "9"
        ],
        [
         "1274",
         "Kamaru Usman",
         "Welterweight",
         "2450.898024266687",
         "2642.032718471827",
         "1",
         "15"
        ],
        [
         "119",
         "Georges St-Pierre",
         "Middleweight",
         "2623.1910736553245",
         "2623.1910736553245",
         "13",
         "13"
        ],
        [
         "1312",
         "Francis Ngannou",
         "Heavyweight",
         "2580.5703802790904",
         "2580.5703802790904",
         "6",
         "6"
        ],
        [
         "1365",
         "Belal Muhammad",
         "Welterweight",
         "2384.081094127807",
         "2576.5746343043147",
         "-1",
         "10"
        ],
        [
         "1415",
         "Alexander Volkanovski",
         "Featherweight",
         "2443.875327520788",
         "2565.9699717509066",
         "1",
         "12"
        ],
        [
         "300",
         "Fabricio Werdum",
         "Heavyweight",
         "2096.372864503967",
         "2565.598123859185",
         "1",
         "6"
        ],
        [
         "752",
         "Max Holloway",
         "Featherweight",
         "2452.486553902215",
         "2564.4640415598215",
         "-1",
         "13"
        ],
        [
         "565",
         "Charles Oliveira",
         "Lightweight",
         "2360.714342579782",
         "2564.216767317037",
         "-1",
         "11"
        ],
        [
         "621",
         "Chris Weidman",
         "Middleweight",
         "1685.0471943473183",
         "2539.4268456560403",
         "-1",
         "9"
        ],
        [
         "591",
         "Dustin Poirier",
         "Lightweight",
         "2351.3399373470265",
         "2539.234265665194",
         "-1",
         "5"
        ],
        [
         "1872",
         "Khamzat Chimaev",
         "Middleweight",
         "2496.761645805302",
         "2496.761645805302",
         "8",
         "8"
        ],
        [
         "1587",
         "Magomed Ankalaev",
         "Light Heavyweight",
         "2495.6357589353693",
         "2495.6357589353693",
         "12",
         "12"
        ],
        [
         "1920",
         "Shavkat Rakhmonov",
         "Welterweight",
         "2492.2133240383973",
         "2492.2133240383973",
         "7",
         "7"
        ],
        [
         "1865",
         "Jiri Prochazka",
         "Light Heavyweight",
         "2257.875855879223",
         "2486.599798575037",
         "1",
         "3"
        ],
        [
         "1568",
         "Israel Adesanya",
         "Middleweight",
         "2098.8543208324286",
         "2484.7280632737607",
         "-3",
         "9"
        ],
        [
         "863",
         "Tyron Woodley",
         "Welterweight",
         "1979.9005277249362",
         "2479.101825170831",
         "-4",
         "6"
        ],
        [
         "382",
         "Cain Velasquez",
         "Heavyweight",
         "2096.995129394851",
         "2477.664089007391",
         "-1",
         "7"
        ],
        [
         "317",
         "Anthony Johnson",
         "Light Heavyweight",
         "2358.9851674576194",
         "2477.605991107336",
         "-1",
         "3"
        ],
        [
         "1899",
         "Dricus Du Plessis",
         "Middleweight",
         "2473.8453243846648",
         "2473.8453243846648",
         "9",
         "9"
        ],
        [
         "1487",
         "Justin Gaethje",
         "Lightweight",
         "2418.6103854597027",
         "2471.72527501941",
         "1",
         "4"
        ],
        [
         "1018",
         "Aljamain Sterling",
         "Featherweight",
         "2244.590905494377",
         "2471.430788820596",
         "-1",
         "9"
        ],
        [
         "844",
         "Robert Whittaker",
         "Middleweight",
         "2240.3179237962877",
         "2470.293047786873",
         "-1",
         "9"
        ],
        [
         "2022",
         "Alex Pereira",
         "Light Heavyweight",
         "2378.1214146327557",
         "2457.3768711520943",
         "-1",
         "5"
        ],
        [
         "666",
         "Tony Ferguson",
         "Welterweight",
         "1637.238122771534",
         "2453.4755591303933",
         "-8",
         "12"
        ],
        [
         "1490",
         "Marlon Moraes",
         "Bantamweight",
         "1852.956100829345",
         "2448.910159822177",
         "-4",
         "4"
        ],
        [
         "1204",
         "Henry Cejudo",
         "Bantamweight",
         "2050.778293040086",
         "2434.896989114063",
         "-3",
         "6"
        ],
        [
         "1801",
         "Sean Brady",
         "Welterweight",
         "2429.93458190846",
         "2429.93458190846",
         "3",
         "5"
        ],
        [
         "658",
         "Jose Aldo",
         "Featherweight",
         "2046.429882553367",
         "2426.589757537671",
         "-2",
         "7"
        ],
        [
         "791",
         "Glover Teixeira",
         "Light Heavyweight",
         "2135.0719244045404",
         "2423.4706167856903",
         "-2",
         "6"
        ],
        [
         "919",
         "Luke Rockhold",
         "Middleweight",
         "1756.1939777013504",
         "2417.8453685206287",
         "-3",
         "5"
        ],
        [
         "70",
         "Robbie Lawler",
         "Welterweight",
         "1876.3003372930318",
         "2417.2738689485905",
         "1",
         "5"
        ],
        [
         "2027",
         "Chris Curtis",
         "Middleweight",
         "1849.0132002110768",
         "2415.2659475841037",
         "-2",
         "3"
        ],
        [
         "425",
         "Junior Dos Santos",
         "Heavyweight",
         "1883.0622327215474",
         "2413.718736168742",
         "-4",
         "9"
        ],
        [
         "905",
         "Yoel Romero",
         "Middleweight",
         "2127.3997203337017",
         "2412.7294704498677",
         "-3",
         "8"
        ],
        [
         "1738",
         "Movsar Evloev",
         "Featherweight",
         "2405.0641503420447",
         "2405.0641503420447",
         "9",
         "9"
        ],
        [
         "428",
         "Rafael Dos Anjos",
         "Welterweight",
         "1846.57265619996",
         "2397.2542181391173",
         "-3",
         "5"
        ],
        [
         "1239",
         "Brian Ortega",
         "Featherweight",
         "2108.669296435085",
         "2396.2866271264343",
         "-1",
         "6"
        ],
        [
         "733",
         "TJ Dillashaw",
         "Bantamweight",
         "2176.8614160718653",
         "2395.7755341293478",
         "-1",
         "4"
        ],
        [
         "8",
         "Josh Barnett",
         "Heavyweight",
         "2052.0643501803443",
         "2393.233792814658",
         "1",
         "4"
        ],
        [
         "649",
         "Anthony Pettis",
         "Welterweight",
         "2133.227963614813",
         "2388.363114739082",
         "2",
         "5"
        ],
        [
         "1551",
         "Sean O'Malley",
         "Bantamweight",
         "2287.4775412907334",
         "2388.3194332801777",
         "-2",
         "6"
        ]
       ],
       "shape": {
        "columns": 6,
        "rows": 2413
       }
      },
      "text/html": [
       "<div>\n",
       "<style scoped>\n",
       "    .dataframe tbody tr th:only-of-type {\n",
       "        vertical-align: middle;\n",
       "    }\n",
       "\n",
       "    .dataframe tbody tr th {\n",
       "        vertical-align: top;\n",
       "    }\n",
       "\n",
       "    .dataframe thead th {\n",
       "        text-align: right;\n",
       "    }\n",
       "</style>\n",
       "<table border=\"1\" class=\"dataframe\">\n",
       "  <thead>\n",
       "    <tr style=\"text-align: right;\">\n",
       "      <th></th>\n",
       "      <th>name</th>\n",
       "      <th>weight_class</th>\n",
       "      <th>current_rating</th>\n",
       "      <th>peak_rating</th>\n",
       "      <th>current_streak</th>\n",
       "      <th>best_streak</th>\n",
       "    </tr>\n",
       "  </thead>\n",
       "  <tbody>\n",
       "    <tr>\n",
       "      <th>416</th>\n",
       "      <td>Jon Jones</td>\n",
       "      <td>Heavyweight</td>\n",
       "      <td>2840.742073</td>\n",
       "      <td>2840.742073</td>\n",
       "      <td>19</td>\n",
       "      <td>19</td>\n",
       "    </tr>\n",
       "    <tr>\n",
       "      <th>1245</th>\n",
       "      <td>Islam Makhachev</td>\n",
       "      <td>Lightweight</td>\n",
       "      <td>2753.101637</td>\n",
       "      <td>2753.101637</td>\n",
       "      <td>15</td>\n",
       "      <td>15</td>\n",
       "    </tr>\n",
       "    <tr>\n",
       "      <th>750</th>\n",
       "      <td>Khabib Nurmagomedov</td>\n",
       "      <td>Lightweight</td>\n",
       "      <td>2694.319145</td>\n",
       "      <td>2694.319145</td>\n",
       "      <td>13</td>\n",
       "      <td>13</td>\n",
       "    </tr>\n",
       "    <tr>\n",
       "      <th>1171</th>\n",
       "      <td>Leon Edwards</td>\n",
       "      <td>Welterweight</td>\n",
       "      <td>2325.250903</td>\n",
       "      <td>2691.006957</td>\n",
       "      <td>-2</td>\n",
       "      <td>12</td>\n",
       "    </tr>\n",
       "    <tr>\n",
       "      <th>697</th>\n",
       "      <td>Stipe Miocic</td>\n",
       "      <td>Heavyweight</td>\n",
       "      <td>2415.111409</td>\n",
       "      <td>2690.950040</td>\n",
       "      <td>-2</td>\n",
       "      <td>6</td>\n",
       "    </tr>\n",
       "    <tr>\n",
       "      <th>...</th>\n",
       "      <td>...</td>\n",
       "      <td>...</td>\n",
       "      <td>...</td>\n",
       "      <td>...</td>\n",
       "      <td>...</td>\n",
       "      <td>...</td>\n",
       "    </tr>\n",
       "    <tr>\n",
       "      <th>1949</th>\n",
       "      <td>Gloria de Paula</td>\n",
       "      <td>Women's Strawweight</td>\n",
       "      <td>1140.267304</td>\n",
       "      <td>1152.559251</td>\n",
       "      <td>-1</td>\n",
       "      <td>1</td>\n",
       "    </tr>\n",
       "    <tr>\n",
       "      <th>547</th>\n",
       "      <td>Ronys Torres</td>\n",
       "      <td>Lightweight</td>\n",
       "      <td>1150.863792</td>\n",
       "      <td>1150.863792</td>\n",
       "      <td>-2</td>\n",
       "      <td>0</td>\n",
       "    </tr>\n",
       "    <tr>\n",
       "      <th>1392</th>\n",
       "      <td>Chris Avila</td>\n",
       "      <td>Featherweight</td>\n",
       "      <td>1079.580901</td>\n",
       "      <td>1124.939207</td>\n",
       "      <td>-2</td>\n",
       "      <td>0</td>\n",
       "    </tr>\n",
       "    <tr>\n",
       "      <th>1744</th>\n",
       "      <td>Sung Bin Jo</td>\n",
       "      <td>Featherweight</td>\n",
       "      <td>1107.687600</td>\n",
       "      <td>1107.687600</td>\n",
       "      <td>-1</td>\n",
       "      <td>0</td>\n",
       "    </tr>\n",
       "    <tr>\n",
       "      <th>1560</th>\n",
       "      <td>Wulijiburen</td>\n",
       "      <td>Bantamweight</td>\n",
       "      <td>960.752397</td>\n",
       "      <td>1106.973076</td>\n",
       "      <td>-3</td>\n",
       "      <td>0</td>\n",
       "    </tr>\n",
       "  </tbody>\n",
       "</table>\n",
       "<p>2413 rows × 6 columns</p>\n",
       "</div>"
      ],
      "text/plain": [
       "                     name         weight_class  current_rating  peak_rating  \\\n",
       "416             Jon Jones          Heavyweight     2840.742073  2840.742073   \n",
       "1245      Islam Makhachev          Lightweight     2753.101637  2753.101637   \n",
       "750   Khabib Nurmagomedov          Lightweight     2694.319145  2694.319145   \n",
       "1171         Leon Edwards         Welterweight     2325.250903  2691.006957   \n",
       "697          Stipe Miocic          Heavyweight     2415.111409  2690.950040   \n",
       "...                   ...                  ...             ...          ...   \n",
       "1949      Gloria de Paula  Women's Strawweight     1140.267304  1152.559251   \n",
       "547          Ronys Torres          Lightweight     1150.863792  1150.863792   \n",
       "1392          Chris Avila        Featherweight     1079.580901  1124.939207   \n",
       "1744          Sung Bin Jo        Featherweight     1107.687600  1107.687600   \n",
       "1560          Wulijiburen         Bantamweight      960.752397  1106.973076   \n",
       "\n",
       "      current_streak  best_streak  \n",
       "416               19           19  \n",
       "1245              15           15  \n",
       "750               13           13  \n",
       "1171              -2           12  \n",
       "697               -2            6  \n",
       "...              ...          ...  \n",
       "1949              -1            1  \n",
       "547               -2            0  \n",
       "1392              -2            0  \n",
       "1744              -1            0  \n",
       "1560              -3            0  \n",
       "\n",
       "[2413 rows x 6 columns]"
      ]
     },
     "execution_count": 27,
     "metadata": {},
     "output_type": "execute_result"
    }
   ],
   "source": [
    "manager = FighterManager(volatility=0.3001, tau=1.86)\n",
    "for period, group in fights_grouped:\n",
    "    timestamp = period.strftime('%Y-%m-%d')\n",
    "    manager.update_fighters(timestamp, group)\n",
    "\n",
    "ratings_df = pd.DataFrame({'name': name,\n",
    "                           'weight_class': fighter.weight_class,\n",
    "                           'current_rating': fighter.rating,\n",
    "                           'peak_rating': fighter.peak_rating,\n",
    "                           'current_streak': fighter.streak,\n",
    "                           'best_streak': fighter.best_streak}\n",
    "                           for name, fighter in manager.items())\n",
    "\n",
    "ratings_df.sort_values('peak_rating', ascending=False)"
   ]
  }
 ],
 "metadata": {
  "kernelspec": {
   "display_name": ".env",
   "language": "python",
   "name": "python3"
  },
  "language_info": {
   "codemirror_mode": {
    "name": "ipython",
    "version": 3
   },
   "file_extension": ".py",
   "mimetype": "text/x-python",
   "name": "python",
   "nbconvert_exporter": "python",
   "pygments_lexer": "ipython3",
   "version": "3.13.5"
  }
 },
 "nbformat": 4,
 "nbformat_minor": 2
}
