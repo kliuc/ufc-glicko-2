{
 "cells": [
  {
   "cell_type": "markdown",
   "metadata": {},
   "source": [
    "In this notebook we will optimize the parameters of the rating system"
   ]
  },
  {
   "cell_type": "markdown",
   "metadata": {},
   "source": [
    "## Imports"
   ]
  },
  {
   "cell_type": "code",
   "execution_count": 1,
   "metadata": {},
   "outputs": [],
   "source": [
    "from scraping import ufcstats\n",
    "from glicko2 import Fighter, FighterManager\n",
    "import pandas as pd\n",
    "from datetime import datetime"
   ]
  },
  {
   "cell_type": "markdown",
   "metadata": {},
   "source": [
    "## Data"
   ]
  },
  {
   "cell_type": "code",
   "execution_count": 34,
   "metadata": {},
   "outputs": [],
   "source": [
    "fights = ufcstats.get_completed_fights(latest_n_events=None)"
   ]
  },
  {
   "cell_type": "code",
   "execution_count": 35,
   "metadata": {},
   "outputs": [
    {
     "data": {
      "application/vnd.microsoft.datawrangler.viewer.v0+json": {
       "columns": [
        {
         "name": "index",
         "rawType": "int64",
         "type": "integer"
        },
        {
         "name": "event",
         "rawType": "object",
         "type": "string"
        },
        {
         "name": "date",
         "rawType": "datetime64[ns]",
         "type": "datetime"
        },
        {
         "name": "fighter",
         "rawType": "object",
         "type": "string"
        },
        {
         "name": "opponent",
         "rawType": "object",
         "type": "string"
        },
        {
         "name": "weight_class",
         "rawType": "object",
         "type": "string"
        },
        {
         "name": "outcome",
         "rawType": "object",
         "type": "string"
        },
        {
         "name": "method",
         "rawType": "object",
         "type": "string"
        }
       ],
       "conversionMethod": "pd.DataFrame",
       "ref": "eb097d4a-f173-4e8a-88cf-04afe4079329",
       "rows": [
        [
         "8057",
         "UFC 2: No Way Out",
         "1994-03-11 00:00:00",
         "Scott Morris",
         "Sean Daugherty",
         "Open Weight",
         "win",
         "SUB"
        ],
        [
         "8043",
         "UFC 2: No Way Out",
         "1994-03-11 00:00:00",
         "Royce Gracie",
         "Patrick Smith",
         "Open Weight",
         "win",
         "KO/TKO"
        ],
        [
         "8044",
         "UFC 2: No Way Out",
         "1994-03-11 00:00:00",
         "Royce Gracie",
         "Remco Pardoel",
         "Open Weight",
         "win",
         "SUB"
        ],
        [
         "8045",
         "UFC 2: No Way Out",
         "1994-03-11 00:00:00",
         "Patrick Smith",
         "Johnny Rhodes",
         "Open Weight",
         "win",
         "SUB"
        ],
        [
         "8046",
         "UFC 2: No Way Out",
         "1994-03-11 00:00:00",
         "Royce Gracie",
         "Jason DeLucia",
         "Open Weight",
         "win",
         "SUB"
        ]
       ],
       "shape": {
        "columns": 7,
        "rows": 5
       }
      },
      "text/html": [
       "<div>\n",
       "<style scoped>\n",
       "    .dataframe tbody tr th:only-of-type {\n",
       "        vertical-align: middle;\n",
       "    }\n",
       "\n",
       "    .dataframe tbody tr th {\n",
       "        vertical-align: top;\n",
       "    }\n",
       "\n",
       "    .dataframe thead th {\n",
       "        text-align: right;\n",
       "    }\n",
       "</style>\n",
       "<table border=\"1\" class=\"dataframe\">\n",
       "  <thead>\n",
       "    <tr style=\"text-align: right;\">\n",
       "      <th></th>\n",
       "      <th>event</th>\n",
       "      <th>date</th>\n",
       "      <th>fighter</th>\n",
       "      <th>opponent</th>\n",
       "      <th>weight_class</th>\n",
       "      <th>outcome</th>\n",
       "      <th>method</th>\n",
       "    </tr>\n",
       "  </thead>\n",
       "  <tbody>\n",
       "    <tr>\n",
       "      <th>8057</th>\n",
       "      <td>UFC 2: No Way Out</td>\n",
       "      <td>1994-03-11</td>\n",
       "      <td>Scott Morris</td>\n",
       "      <td>Sean Daugherty</td>\n",
       "      <td>Open Weight</td>\n",
       "      <td>win</td>\n",
       "      <td>SUB</td>\n",
       "    </tr>\n",
       "    <tr>\n",
       "      <th>8043</th>\n",
       "      <td>UFC 2: No Way Out</td>\n",
       "      <td>1994-03-11</td>\n",
       "      <td>Royce Gracie</td>\n",
       "      <td>Patrick Smith</td>\n",
       "      <td>Open Weight</td>\n",
       "      <td>win</td>\n",
       "      <td>KO/TKO</td>\n",
       "    </tr>\n",
       "    <tr>\n",
       "      <th>8044</th>\n",
       "      <td>UFC 2: No Way Out</td>\n",
       "      <td>1994-03-11</td>\n",
       "      <td>Royce Gracie</td>\n",
       "      <td>Remco Pardoel</td>\n",
       "      <td>Open Weight</td>\n",
       "      <td>win</td>\n",
       "      <td>SUB</td>\n",
       "    </tr>\n",
       "    <tr>\n",
       "      <th>8045</th>\n",
       "      <td>UFC 2: No Way Out</td>\n",
       "      <td>1994-03-11</td>\n",
       "      <td>Patrick Smith</td>\n",
       "      <td>Johnny Rhodes</td>\n",
       "      <td>Open Weight</td>\n",
       "      <td>win</td>\n",
       "      <td>SUB</td>\n",
       "    </tr>\n",
       "    <tr>\n",
       "      <th>8046</th>\n",
       "      <td>UFC 2: No Way Out</td>\n",
       "      <td>1994-03-11</td>\n",
       "      <td>Royce Gracie</td>\n",
       "      <td>Jason DeLucia</td>\n",
       "      <td>Open Weight</td>\n",
       "      <td>win</td>\n",
       "      <td>SUB</td>\n",
       "    </tr>\n",
       "  </tbody>\n",
       "</table>\n",
       "</div>"
      ],
      "text/plain": [
       "                  event       date        fighter        opponent  \\\n",
       "8057  UFC 2: No Way Out 1994-03-11   Scott Morris  Sean Daugherty   \n",
       "8043  UFC 2: No Way Out 1994-03-11   Royce Gracie   Patrick Smith   \n",
       "8044  UFC 2: No Way Out 1994-03-11   Royce Gracie   Remco Pardoel   \n",
       "8045  UFC 2: No Way Out 1994-03-11  Patrick Smith   Johnny Rhodes   \n",
       "8046  UFC 2: No Way Out 1994-03-11   Royce Gracie   Jason DeLucia   \n",
       "\n",
       "     weight_class outcome  method  \n",
       "8057  Open Weight     win     SUB  \n",
       "8043  Open Weight     win  KO/TKO  \n",
       "8044  Open Weight     win     SUB  \n",
       "8045  Open Weight     win     SUB  \n",
       "8046  Open Weight     win     SUB  "
      ]
     },
     "execution_count": 35,
     "metadata": {},
     "output_type": "execute_result"
    }
   ],
   "source": [
    "fights_df = pd.DataFrame(fights).sort_values('date')\n",
    "fights_df.head()"
   ]
  },
  {
   "cell_type": "markdown",
   "metadata": {},
   "source": [
    "According to [Wikipedia](https://en.wikipedia.org/wiki/Ultimate_Fighting_Championship), UFC 28 (November 17, 2000) was the first UFC event under the \"Unified Rules of MMA\". This is the current (albeit with some changes) ruleset used by the UFC today (2025). For the purposes of this project, we will only consider fights taking place on or after November 17, 2000."
   ]
  },
  {
   "cell_type": "code",
   "execution_count": 36,
   "metadata": {},
   "outputs": [
    {
     "data": {
      "application/vnd.microsoft.datawrangler.viewer.v0+json": {
       "columns": [
        {
         "name": "index",
         "rawType": "int64",
         "type": "integer"
        },
        {
         "name": "event",
         "rawType": "object",
         "type": "string"
        },
        {
         "name": "date",
         "rawType": "datetime64[ns]",
         "type": "datetime"
        },
        {
         "name": "fighter",
         "rawType": "object",
         "type": "string"
        },
        {
         "name": "opponent",
         "rawType": "object",
         "type": "string"
        },
        {
         "name": "weight_class",
         "rawType": "object",
         "type": "string"
        },
        {
         "name": "outcome",
         "rawType": "object",
         "type": "string"
        },
        {
         "name": "method",
         "rawType": "object",
         "type": "string"
        }
       ],
       "conversionMethod": "pd.DataFrame",
       "ref": "e1d8d5ed-79b1-4a88-a8ee-328d000dbc4c",
       "rows": [
        [
         "7798",
         "UFC 28: High Stakes",
         "2000-11-17 00:00:00",
         "Randy Couture",
         "Kevin Randleman",
         "Heavyweight",
         "win",
         "KO/TKO"
        ],
        [
         "7800",
         "UFC 28: High Stakes",
         "2000-11-17 00:00:00",
         "Josh Barnett",
         "Gan McGee",
         "Super Heavyweight",
         "win",
         "KO/TKO"
        ],
        [
         "7799",
         "UFC 28: High Stakes",
         "2000-11-17 00:00:00",
         "Renato Sobral",
         "Maurice Smith",
         "Heavyweight",
         "win",
         "M-DEC"
        ],
        [
         "7802",
         "UFC 28: High Stakes",
         "2000-11-17 00:00:00",
         "Jens Pulver",
         "John Lewis",
         "Lightweight",
         "win",
         "KO/TKO"
        ],
        [
         "7804",
         "UFC 28: High Stakes",
         "2000-11-17 00:00:00",
         "Ben Earwood",
         "Chris Lytle",
         "Welterweight",
         "win",
         "U-DEC"
        ]
       ],
       "shape": {
        "columns": 7,
        "rows": 5
       }
      },
      "text/html": [
       "<div>\n",
       "<style scoped>\n",
       "    .dataframe tbody tr th:only-of-type {\n",
       "        vertical-align: middle;\n",
       "    }\n",
       "\n",
       "    .dataframe tbody tr th {\n",
       "        vertical-align: top;\n",
       "    }\n",
       "\n",
       "    .dataframe thead th {\n",
       "        text-align: right;\n",
       "    }\n",
       "</style>\n",
       "<table border=\"1\" class=\"dataframe\">\n",
       "  <thead>\n",
       "    <tr style=\"text-align: right;\">\n",
       "      <th></th>\n",
       "      <th>event</th>\n",
       "      <th>date</th>\n",
       "      <th>fighter</th>\n",
       "      <th>opponent</th>\n",
       "      <th>weight_class</th>\n",
       "      <th>outcome</th>\n",
       "      <th>method</th>\n",
       "    </tr>\n",
       "  </thead>\n",
       "  <tbody>\n",
       "    <tr>\n",
       "      <th>7798</th>\n",
       "      <td>UFC 28: High Stakes</td>\n",
       "      <td>2000-11-17</td>\n",
       "      <td>Randy Couture</td>\n",
       "      <td>Kevin Randleman</td>\n",
       "      <td>Heavyweight</td>\n",
       "      <td>win</td>\n",
       "      <td>KO/TKO</td>\n",
       "    </tr>\n",
       "    <tr>\n",
       "      <th>7800</th>\n",
       "      <td>UFC 28: High Stakes</td>\n",
       "      <td>2000-11-17</td>\n",
       "      <td>Josh Barnett</td>\n",
       "      <td>Gan McGee</td>\n",
       "      <td>Super Heavyweight</td>\n",
       "      <td>win</td>\n",
       "      <td>KO/TKO</td>\n",
       "    </tr>\n",
       "    <tr>\n",
       "      <th>7799</th>\n",
       "      <td>UFC 28: High Stakes</td>\n",
       "      <td>2000-11-17</td>\n",
       "      <td>Renato Sobral</td>\n",
       "      <td>Maurice Smith</td>\n",
       "      <td>Heavyweight</td>\n",
       "      <td>win</td>\n",
       "      <td>M-DEC</td>\n",
       "    </tr>\n",
       "    <tr>\n",
       "      <th>7802</th>\n",
       "      <td>UFC 28: High Stakes</td>\n",
       "      <td>2000-11-17</td>\n",
       "      <td>Jens Pulver</td>\n",
       "      <td>John Lewis</td>\n",
       "      <td>Lightweight</td>\n",
       "      <td>win</td>\n",
       "      <td>KO/TKO</td>\n",
       "    </tr>\n",
       "    <tr>\n",
       "      <th>7804</th>\n",
       "      <td>UFC 28: High Stakes</td>\n",
       "      <td>2000-11-17</td>\n",
       "      <td>Ben Earwood</td>\n",
       "      <td>Chris Lytle</td>\n",
       "      <td>Welterweight</td>\n",
       "      <td>win</td>\n",
       "      <td>U-DEC</td>\n",
       "    </tr>\n",
       "  </tbody>\n",
       "</table>\n",
       "</div>"
      ],
      "text/plain": [
       "                    event       date        fighter         opponent  \\\n",
       "7798  UFC 28: High Stakes 2000-11-17  Randy Couture  Kevin Randleman   \n",
       "7800  UFC 28: High Stakes 2000-11-17   Josh Barnett        Gan McGee   \n",
       "7799  UFC 28: High Stakes 2000-11-17  Renato Sobral    Maurice Smith   \n",
       "7802  UFC 28: High Stakes 2000-11-17    Jens Pulver       John Lewis   \n",
       "7804  UFC 28: High Stakes 2000-11-17    Ben Earwood      Chris Lytle   \n",
       "\n",
       "           weight_class outcome  method  \n",
       "7798        Heavyweight     win  KO/TKO  \n",
       "7800  Super Heavyweight     win  KO/TKO  \n",
       "7799        Heavyweight     win   M-DEC  \n",
       "7802        Lightweight     win  KO/TKO  \n",
       "7804       Welterweight     win   U-DEC  "
      ]
     },
     "execution_count": 36,
     "metadata": {},
     "output_type": "execute_result"
    }
   ],
   "source": [
    "fights_df = fights_df[fights_df['date'] >= datetime(2000, 11, 17)]\n",
    "fights_df.head()"
   ]
  },
  {
   "cell_type": "markdown",
   "metadata": {},
   "source": [
    "Further we will treat fights graded \"No Contest\" as if the fight never occured (and thus exclude them)."
   ]
  },
  {
   "cell_type": "code",
   "execution_count": 37,
   "metadata": {},
   "outputs": [],
   "source": [
    "fights_df = fights_df[fights_df['outcome'] != 'nc']"
   ]
  },
  {
   "cell_type": "markdown",
   "metadata": {},
   "source": [
    "The following duplicates the entire dataframe, swapping 'fighter' and 'opponent' values and changing the 'outcome' so that there are two rows associated with each fight (i.e. one winner and one loser)."
   ]
  },
  {
   "cell_type": "code",
   "execution_count": 38,
   "metadata": {},
   "outputs": [
    {
     "name": "stdout",
     "output_type": "stream",
     "text": [
      "Shape before: (7720, 7)\n",
      "Shape after: (15440, 7)\n"
     ]
    }
   ],
   "source": [
    "print('Shape before:', fights_df.shape)\n",
    "\n",
    "copy_df = fights_df.copy()\n",
    "copy_df[['fighter', 'opponent']] = copy_df[['opponent', 'fighter']]\n",
    "copy_df['outcome'] = copy_df['outcome'].replace('win', 'loss')\n",
    "fights_df = pd.concat([fights_df, copy_df], ignore_index=True)\n",
    "\n",
    "print('Shape after:', fights_df.shape)"
   ]
  },
  {
   "cell_type": "code",
   "execution_count": 39,
   "metadata": {},
   "outputs": [],
   "source": [
    "fights_df.to_csv('fights.csv', index=False)"
   ]
  },
  {
   "cell_type": "markdown",
   "metadata": {},
   "source": [
    "## Optimizing Algorithm Parameters"
   ]
  },
  {
   "cell_type": "code",
   "execution_count": 44,
   "metadata": {},
   "outputs": [],
   "source": [
    "fights_df = pd.read_csv('fights.csv', parse_dates=['date'])"
   ]
  },
  {
   "cell_type": "code",
   "execution_count": 46,
   "metadata": {},
   "outputs": [],
   "source": [
    "weekly_grouped = fights_df.groupby(pd.Grouper(key='date', freq='W'))"
   ]
  },
  {
   "cell_type": "code",
   "execution_count": 47,
   "metadata": {},
   "outputs": [],
   "source": [
    "manager = FighterManager()\n",
    "\n",
    "for week, group in weekly_grouped:\n",
    "    manager.update_fighters(group)"
   ]
  },
  {
   "cell_type": "code",
   "execution_count": 62,
   "metadata": {},
   "outputs": [
    {
     "data": {
      "application/vnd.microsoft.datawrangler.viewer.v0+json": {
       "columns": [
        {
         "name": "index",
         "rawType": "int64",
         "type": "integer"
        },
        {
         "name": "name",
         "rawType": "object",
         "type": "string"
        },
        {
         "name": "current_rating",
         "rawType": "float64",
         "type": "float"
        },
        {
         "name": "peak_rating",
         "rawType": "float64",
         "type": "float"
        },
        {
         "name": "current_streak",
         "rawType": "int64",
         "type": "integer"
        },
        {
         "name": "best_streak",
         "rawType": "int64",
         "type": "integer"
        }
       ],
       "conversionMethod": "pd.DataFrame",
       "ref": "4551e996-0f66-4c2a-9533-0e13b22901eb",
       "rows": [
        [
         "411",
         "Jon Jones",
         "2688.2241459845986",
         "2688.2241459845986",
         "19",
         "19"
        ],
        [
         "1250",
         "Islam Makhachev",
         "2575.2356940995596",
         "2575.2356940995596",
         "15",
         "15"
        ],
        [
         "233",
         "Anderson Silva",
         "1812.8099972887644",
         "2565.0929269760773",
         "-3",
         "16"
        ],
        [
         "894",
         "Daniel Cormier",
         "2381.2100098682868",
         "2551.882260480726",
         "-2",
         "7"
        ],
        [
         "1268",
         "Kamaru Usman",
         "2308.189107150294",
         "2550.1912225045007",
         "-3",
         "15"
        ],
        [
         "740",
         "Khabib Nurmagomedov",
         "2538.9475856097492",
         "2538.9475856097492",
         "13",
         "13"
        ],
        [
         "1171",
         "Leon Edwards",
         "2416.5423665649923",
         "2535.4152996228872",
         "-1",
         "12"
        ],
        [
         "119",
         "Georges St-Pierre",
         "2519.2059691718828",
         "2519.2059691718828",
         "13",
         "13"
        ],
        [
         "698",
         "Stipe Miocic",
         "2355.109038749387",
         "2513.553861860758",
         "-2",
         "6"
        ],
        [
         "1912",
         "Ilia Topuria",
         "2492.702208620523",
         "2492.702208620523",
         "8",
         "8"
        ],
        [
         "629",
         "Chris Weidman",
         "1813.4887982349137",
         "2481.766415058375",
         "-1",
         "9"
        ],
        [
         "1426",
         "Alexander Volkanovski",
         "2329.873799508767",
         "2481.347763364516",
         "-2",
         "12"
        ],
        [
         "1921",
         "Shavkat Rakhmonov",
         "2475.147074483633",
         "2475.147074483633",
         "7",
         "7"
        ],
        [
         "1862",
         "Jiri Prochazka",
         "2269.685937218368",
         "2453.0587406417035",
         "1",
         "3"
        ],
        [
         "1323",
         "Francis Ngannou",
         "2439.1846183031744",
         "2439.1846183031744",
         "6",
         "6"
        ],
        [
         "1911",
         "Dricus Du Plessis",
         "2438.5738257289927",
         "2438.5738257289927",
         "9",
         "9"
        ],
        [
         "896",
         "Yoel Romero",
         "2167.375818989356",
         "2422.2537168272966",
         "-3",
         "8"
        ],
        [
         "747",
         "Max Holloway",
         "2358.0966612931393",
         "2421.5063884870547",
         "-1",
         "13"
        ],
        [
         "1561",
         "Merab Dvalishvili",
         "2420.411340242225",
         "2420.411340242225",
         "12",
         "12"
        ],
        [
         "1574",
         "Israel Adesanya",
         "2159.057367231154",
         "2419.6115025",
         "-3",
         "9"
        ],
        [
         "2030",
         "Alex Pereira",
         "2415.987852679632",
         "2415.987852679632",
         "5",
         "5"
        ],
        [
         "650",
         "Jose Aldo",
         "2097.988920882875",
         "2411.2542063842247",
         "-1",
         "7"
        ],
        [
         "1366",
         "Belal Muhammad",
         "2409.4698253569513",
         "2409.4698253569513",
         "10",
         "10"
        ],
        [
         "854",
         "Tyron Woodley",
         "2065.801796822023",
         "2407.6740915272426",
         "-4",
         "6"
        ],
        [
         "307",
         "Fabricio Werdum",
         "2084.5020006938576",
         "2405.1165475152006",
         "1",
         "6"
        ],
        [
         "609",
         "Dustin Poirier",
         "2281.975505263913",
         "2400.220978095523",
         "-1",
         "5"
        ],
        [
         "907",
         "Luke Rockhold",
         "1931.3127158310867",
         "2399.7243018260706",
         "-3",
         "5"
        ],
        [
         "649",
         "Benson Henderson",
         "2184.3362071715123",
         "2399.6884675656797",
         "2",
         "7"
        ],
        [
         "1019",
         "Aljamain Sterling",
         "2248.394201429525",
         "2398.349069980651",
         "-1",
         "9"
        ],
        [
         "1867",
         "Khamzat Chimaev",
         "2385.006759723345",
         "2385.006759723345",
         "8",
         "8"
        ],
        [
         "384",
         "Cain Velasquez",
         "2159.331403439729",
         "2382.983430764211",
         "-1",
         "7"
        ],
        [
         "834",
         "Robert Whittaker",
         "2244.695189414614",
         "2382.6535676485505",
         "-1",
         "9"
        ],
        [
         "567",
         "Charles Oliveira",
         "2317.1506897365402",
         "2380.5825914532575",
         "1",
         "11"
        ],
        [
         "1484",
         "Justin Gaethje",
         "2303.962050600353",
         "2365.921210910663",
         "-1",
         "4"
        ],
        [
         "1257",
         "Brian Ortega",
         "2153.5337887603955",
         "2364.751142617709",
         "-1",
         "6"
        ],
        [
         "425",
         "Junior Dos Santos",
         "1948.1540081736127",
         "2364.014077032879",
         "-4",
         "9"
        ],
        [
         "67",
         "Robbie Lawler",
         "1961.1098829401676",
         "2360.194415878737",
         "1",
         "5"
        ],
        [
         "874",
         "Conor McGregor",
         "2190.934558829782",
         "2350.904395417579",
         "-2",
         "7"
        ],
        [
         "655",
         "Tony Ferguson",
         "1764.508293127234",
         "2350.8046870560925",
         "-8",
         "12"
        ],
        [
         "1719",
         "Movsar Evloev",
         "2350.053573122591",
         "2350.053573122591",
         "9",
         "9"
        ],
        [
         "1765",
         "Ciryl Gane",
         "2342.974604537483",
         "2342.974604537483",
         "2",
         "7"
        ],
        [
         "1138",
         "Colby Covington",
         "2131.9172049445847",
         "2338.3508904243035",
         "-2",
         "7"
        ],
        [
         "906",
         "Jacare Souza",
         "1896.5254598588765",
         "2331.1356131446446",
         "-4",
         "5"
        ],
        [
         "314",
         "Anthony Johnson",
         "2269.1745926309636",
         "2322.196882134326",
         "-1",
         "3"
        ],
        [
         "338",
         "Dan Henderson",
         "2003.1668055571242",
         "2321.285003303041",
         "-1",
         "4"
        ],
        [
         "1210",
         "Henry Cejudo",
         "2049.2373489161746",
         "2309.7713210661805",
         "-3",
         "6"
        ],
        [
         "661",
         "Anthony Pettis",
         "2082.369960213136",
         "2307.620958873993",
         "2",
         "5"
        ],
        [
         "1158",
         "Eddie Alvarez",
         "2140.9796309905414",
         "2306.2602109615045",
         "-1",
         "3"
        ],
        [
         "1656",
         "Sergei Pavlovich",
         "2183.907975461629",
         "2304.562556070703",
         "1",
         "6"
        ],
        [
         "1472",
         "Marlon Moraes",
         "1924.929941795943",
         "2303.969140355376",
         "-4",
         "4"
        ]
       ],
       "shape": {
        "columns": 5,
        "rows": 2386
       }
      },
      "text/html": [
       "<div>\n",
       "<style scoped>\n",
       "    .dataframe tbody tr th:only-of-type {\n",
       "        vertical-align: middle;\n",
       "    }\n",
       "\n",
       "    .dataframe tbody tr th {\n",
       "        vertical-align: top;\n",
       "    }\n",
       "\n",
       "    .dataframe thead th {\n",
       "        text-align: right;\n",
       "    }\n",
       "</style>\n",
       "<table border=\"1\" class=\"dataframe\">\n",
       "  <thead>\n",
       "    <tr style=\"text-align: right;\">\n",
       "      <th></th>\n",
       "      <th>name</th>\n",
       "      <th>current_rating</th>\n",
       "      <th>peak_rating</th>\n",
       "      <th>current_streak</th>\n",
       "      <th>best_streak</th>\n",
       "    </tr>\n",
       "  </thead>\n",
       "  <tbody>\n",
       "    <tr>\n",
       "      <th>411</th>\n",
       "      <td>Jon Jones</td>\n",
       "      <td>2688.224146</td>\n",
       "      <td>2688.224146</td>\n",
       "      <td>19</td>\n",
       "      <td>19</td>\n",
       "    </tr>\n",
       "    <tr>\n",
       "      <th>1250</th>\n",
       "      <td>Islam Makhachev</td>\n",
       "      <td>2575.235694</td>\n",
       "      <td>2575.235694</td>\n",
       "      <td>15</td>\n",
       "      <td>15</td>\n",
       "    </tr>\n",
       "    <tr>\n",
       "      <th>233</th>\n",
       "      <td>Anderson Silva</td>\n",
       "      <td>1812.809997</td>\n",
       "      <td>2565.092927</td>\n",
       "      <td>-3</td>\n",
       "      <td>16</td>\n",
       "    </tr>\n",
       "    <tr>\n",
       "      <th>894</th>\n",
       "      <td>Daniel Cormier</td>\n",
       "      <td>2381.210010</td>\n",
       "      <td>2551.882260</td>\n",
       "      <td>-2</td>\n",
       "      <td>7</td>\n",
       "    </tr>\n",
       "    <tr>\n",
       "      <th>1268</th>\n",
       "      <td>Kamaru Usman</td>\n",
       "      <td>2308.189107</td>\n",
       "      <td>2550.191223</td>\n",
       "      <td>-3</td>\n",
       "      <td>15</td>\n",
       "    </tr>\n",
       "    <tr>\n",
       "      <th>...</th>\n",
       "      <td>...</td>\n",
       "      <td>...</td>\n",
       "      <td>...</td>\n",
       "      <td>...</td>\n",
       "      <td>...</td>\n",
       "    </tr>\n",
       "    <tr>\n",
       "      <th>1468</th>\n",
       "      <td>Rashad Coulter</td>\n",
       "      <td>1150.744736</td>\n",
       "      <td>1150.744736</td>\n",
       "      <td>1</td>\n",
       "      <td>1</td>\n",
       "    </tr>\n",
       "    <tr>\n",
       "      <th>1340</th>\n",
       "      <td>Kelly Faszholz</td>\n",
       "      <td>1112.516347</td>\n",
       "      <td>1143.595158</td>\n",
       "      <td>-2</td>\n",
       "      <td>0</td>\n",
       "    </tr>\n",
       "    <tr>\n",
       "      <th>1391</th>\n",
       "      <td>Chris Avila</td>\n",
       "      <td>1080.712039</td>\n",
       "      <td>1135.460146</td>\n",
       "      <td>-2</td>\n",
       "      <td>0</td>\n",
       "    </tr>\n",
       "    <tr>\n",
       "      <th>1743</th>\n",
       "      <td>Sung Bin Jo</td>\n",
       "      <td>1128.387826</td>\n",
       "      <td>1128.387826</td>\n",
       "      <td>-1</td>\n",
       "      <td>0</td>\n",
       "    </tr>\n",
       "    <tr>\n",
       "      <th>1542</th>\n",
       "      <td>Wulijiburen</td>\n",
       "      <td>974.815806</td>\n",
       "      <td>1113.451148</td>\n",
       "      <td>-3</td>\n",
       "      <td>0</td>\n",
       "    </tr>\n",
       "  </tbody>\n",
       "</table>\n",
       "<p>2386 rows × 5 columns</p>\n",
       "</div>"
      ],
      "text/plain": [
       "                 name  current_rating  peak_rating  current_streak  \\\n",
       "411         Jon Jones     2688.224146  2688.224146              19   \n",
       "1250  Islam Makhachev     2575.235694  2575.235694              15   \n",
       "233    Anderson Silva     1812.809997  2565.092927              -3   \n",
       "894    Daniel Cormier     2381.210010  2551.882260              -2   \n",
       "1268     Kamaru Usman     2308.189107  2550.191223              -3   \n",
       "...               ...             ...          ...             ...   \n",
       "1468   Rashad Coulter     1150.744736  1150.744736               1   \n",
       "1340   Kelly Faszholz     1112.516347  1143.595158              -2   \n",
       "1391      Chris Avila     1080.712039  1135.460146              -2   \n",
       "1743      Sung Bin Jo     1128.387826  1128.387826              -1   \n",
       "1542      Wulijiburen      974.815806  1113.451148              -3   \n",
       "\n",
       "      best_streak  \n",
       "411            19  \n",
       "1250           15  \n",
       "233            16  \n",
       "894             7  \n",
       "1268           15  \n",
       "...           ...  \n",
       "1468            1  \n",
       "1340            0  \n",
       "1391            0  \n",
       "1743            0  \n",
       "1542            0  \n",
       "\n",
       "[2386 rows x 5 columns]"
      ]
     },
     "execution_count": 62,
     "metadata": {},
     "output_type": "execute_result"
    }
   ],
   "source": [
    "fighters_df = pd.DataFrame({'name': name,\n",
    "                            'current_rating': fighter.rating,\n",
    "                            'peak_rating': fighter.peak_rating,\n",
    "                            'current_streak': fighter.streak,\n",
    "                            'best_streak': fighter.best_streak}\n",
    "                            for name, fighter in manager.items())\n",
    "\n",
    "fighters_df.sort_values('peak_rating', ascending=False)"
   ]
  }
 ],
 "metadata": {
  "kernelspec": {
   "display_name": ".venv",
   "language": "python",
   "name": "python3"
  },
  "language_info": {
   "codemirror_mode": {
    "name": "ipython",
    "version": 3
   },
   "file_extension": ".py",
   "mimetype": "text/x-python",
   "name": "python",
   "nbconvert_exporter": "python",
   "pygments_lexer": "ipython3",
   "version": "3.11.9"
  }
 },
 "nbformat": 4,
 "nbformat_minor": 2
}
