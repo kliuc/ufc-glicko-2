{
 "cells": [
  {
   "cell_type": "markdown",
   "metadata": {},
   "source": [
    "In this notebook we will optimize the parameters of the rating system"
   ]
  },
  {
   "cell_type": "markdown",
   "metadata": {},
   "source": [
    "## Imports"
   ]
  },
  {
   "cell_type": "code",
   "execution_count": 2,
   "metadata": {},
   "outputs": [],
   "source": [
    "from scraping import ufcstats\n",
    "from glicko2 import Fighter, FighterManager\n",
    "import pandas as pd\n",
    "from datetime import datetime"
   ]
  },
  {
   "cell_type": "markdown",
   "metadata": {},
   "source": [
    "## Data"
   ]
  },
  {
   "cell_type": "code",
   "execution_count": 2,
   "metadata": {},
   "outputs": [],
   "source": [
    "fights = ufcstats.get_completed_fights(latest_n_events=None)"
   ]
  },
  {
   "cell_type": "code",
   "execution_count": 3,
   "metadata": {},
   "outputs": [
    {
     "data": {
      "application/vnd.microsoft.datawrangler.viewer.v0+json": {
       "columns": [
        {
         "name": "index",
         "rawType": "int64",
         "type": "integer"
        },
        {
         "name": "event",
         "rawType": "object",
         "type": "string"
        },
        {
         "name": "date",
         "rawType": "datetime64[ns]",
         "type": "datetime"
        },
        {
         "name": "fighter",
         "rawType": "object",
         "type": "string"
        },
        {
         "name": "opponent",
         "rawType": "object",
         "type": "string"
        },
        {
         "name": "weight_class",
         "rawType": "object",
         "type": "string"
        },
        {
         "name": "outcome",
         "rawType": "object",
         "type": "string"
        },
        {
         "name": "method",
         "rawType": "object",
         "type": "string"
        }
       ],
       "conversionMethod": "pd.DataFrame",
       "ref": "9cdda068-9757-4b3a-9b84-8b5eb801dbfc",
       "rows": [
        [
         "8179",
         "UFC 2: No Way Out",
         "1994-03-11 00:00:00",
         "Scott Morris",
         "Sean Daugherty",
         "Open Weight",
         "win",
         "SUB"
        ],
        [
         "8165",
         "UFC 2: No Way Out",
         "1994-03-11 00:00:00",
         "Royce Gracie",
         "Patrick Smith",
         "Open Weight",
         "win",
         "KO/TKO"
        ],
        [
         "8166",
         "UFC 2: No Way Out",
         "1994-03-11 00:00:00",
         "Royce Gracie",
         "Remco Pardoel",
         "Open Weight",
         "win",
         "SUB"
        ],
        [
         "8167",
         "UFC 2: No Way Out",
         "1994-03-11 00:00:00",
         "Patrick Smith",
         "Johnny Rhodes",
         "Open Weight",
         "win",
         "SUB"
        ],
        [
         "8168",
         "UFC 2: No Way Out",
         "1994-03-11 00:00:00",
         "Royce Gracie",
         "Jason DeLucia",
         "Open Weight",
         "win",
         "SUB"
        ]
       ],
       "shape": {
        "columns": 7,
        "rows": 5
       }
      },
      "text/html": [
       "<div>\n",
       "<style scoped>\n",
       "    .dataframe tbody tr th:only-of-type {\n",
       "        vertical-align: middle;\n",
       "    }\n",
       "\n",
       "    .dataframe tbody tr th {\n",
       "        vertical-align: top;\n",
       "    }\n",
       "\n",
       "    .dataframe thead th {\n",
       "        text-align: right;\n",
       "    }\n",
       "</style>\n",
       "<table border=\"1\" class=\"dataframe\">\n",
       "  <thead>\n",
       "    <tr style=\"text-align: right;\">\n",
       "      <th></th>\n",
       "      <th>event</th>\n",
       "      <th>date</th>\n",
       "      <th>fighter</th>\n",
       "      <th>opponent</th>\n",
       "      <th>weight_class</th>\n",
       "      <th>outcome</th>\n",
       "      <th>method</th>\n",
       "    </tr>\n",
       "  </thead>\n",
       "  <tbody>\n",
       "    <tr>\n",
       "      <th>8179</th>\n",
       "      <td>UFC 2: No Way Out</td>\n",
       "      <td>1994-03-11</td>\n",
       "      <td>Scott Morris</td>\n",
       "      <td>Sean Daugherty</td>\n",
       "      <td>Open Weight</td>\n",
       "      <td>win</td>\n",
       "      <td>SUB</td>\n",
       "    </tr>\n",
       "    <tr>\n",
       "      <th>8165</th>\n",
       "      <td>UFC 2: No Way Out</td>\n",
       "      <td>1994-03-11</td>\n",
       "      <td>Royce Gracie</td>\n",
       "      <td>Patrick Smith</td>\n",
       "      <td>Open Weight</td>\n",
       "      <td>win</td>\n",
       "      <td>KO/TKO</td>\n",
       "    </tr>\n",
       "    <tr>\n",
       "      <th>8166</th>\n",
       "      <td>UFC 2: No Way Out</td>\n",
       "      <td>1994-03-11</td>\n",
       "      <td>Royce Gracie</td>\n",
       "      <td>Remco Pardoel</td>\n",
       "      <td>Open Weight</td>\n",
       "      <td>win</td>\n",
       "      <td>SUB</td>\n",
       "    </tr>\n",
       "    <tr>\n",
       "      <th>8167</th>\n",
       "      <td>UFC 2: No Way Out</td>\n",
       "      <td>1994-03-11</td>\n",
       "      <td>Patrick Smith</td>\n",
       "      <td>Johnny Rhodes</td>\n",
       "      <td>Open Weight</td>\n",
       "      <td>win</td>\n",
       "      <td>SUB</td>\n",
       "    </tr>\n",
       "    <tr>\n",
       "      <th>8168</th>\n",
       "      <td>UFC 2: No Way Out</td>\n",
       "      <td>1994-03-11</td>\n",
       "      <td>Royce Gracie</td>\n",
       "      <td>Jason DeLucia</td>\n",
       "      <td>Open Weight</td>\n",
       "      <td>win</td>\n",
       "      <td>SUB</td>\n",
       "    </tr>\n",
       "  </tbody>\n",
       "</table>\n",
       "</div>"
      ],
      "text/plain": [
       "                  event       date        fighter        opponent  \\\n",
       "8179  UFC 2: No Way Out 1994-03-11   Scott Morris  Sean Daugherty   \n",
       "8165  UFC 2: No Way Out 1994-03-11   Royce Gracie   Patrick Smith   \n",
       "8166  UFC 2: No Way Out 1994-03-11   Royce Gracie   Remco Pardoel   \n",
       "8167  UFC 2: No Way Out 1994-03-11  Patrick Smith   Johnny Rhodes   \n",
       "8168  UFC 2: No Way Out 1994-03-11   Royce Gracie   Jason DeLucia   \n",
       "\n",
       "     weight_class outcome  method  \n",
       "8179  Open Weight     win     SUB  \n",
       "8165  Open Weight     win  KO/TKO  \n",
       "8166  Open Weight     win     SUB  \n",
       "8167  Open Weight     win     SUB  \n",
       "8168  Open Weight     win     SUB  "
      ]
     },
     "execution_count": 3,
     "metadata": {},
     "output_type": "execute_result"
    }
   ],
   "source": [
    "fights_df = pd.DataFrame(fights).sort_values('date')\n",
    "fights_df.head()"
   ]
  },
  {
   "cell_type": "markdown",
   "metadata": {},
   "source": [
    "According to [Wikipedia](https://en.wikipedia.org/wiki/Ultimate_Fighting_Championship), UFC 28 (November 17, 2000) was the first UFC event under the \"Unified Rules of MMA\". This is the current (albeit with some changes) ruleset used by the UFC today (2025). For the purposes of this project, we will only consider fights taking place on or after November 17, 2000."
   ]
  },
  {
   "cell_type": "code",
   "execution_count": 4,
   "metadata": {},
   "outputs": [
    {
     "data": {
      "application/vnd.microsoft.datawrangler.viewer.v0+json": {
       "columns": [
        {
         "name": "index",
         "rawType": "int64",
         "type": "integer"
        },
        {
         "name": "event",
         "rawType": "object",
         "type": "string"
        },
        {
         "name": "date",
         "rawType": "datetime64[ns]",
         "type": "datetime"
        },
        {
         "name": "fighter",
         "rawType": "object",
         "type": "string"
        },
        {
         "name": "opponent",
         "rawType": "object",
         "type": "string"
        },
        {
         "name": "weight_class",
         "rawType": "object",
         "type": "string"
        },
        {
         "name": "outcome",
         "rawType": "object",
         "type": "string"
        },
        {
         "name": "method",
         "rawType": "object",
         "type": "string"
        }
       ],
       "conversionMethod": "pd.DataFrame",
       "ref": "c365ddb8-10dd-44f4-8a3d-a4ef92db614e",
       "rows": [
        [
         "7926",
         "UFC 28: High Stakes",
         "2000-11-17 00:00:00",
         "Ben Earwood",
         "Chris Lytle",
         "Welterweight",
         "win",
         "U-DEC"
        ],
        [
         "7925",
         "UFC 28: High Stakes",
         "2000-11-17 00:00:00",
         "Mark Hughes",
         "Alex Stiebling",
         "Middleweight",
         "win",
         "U-DEC"
        ],
        [
         "7924",
         "UFC 28: High Stakes",
         "2000-11-17 00:00:00",
         "Jens Pulver",
         "John Lewis",
         "Lightweight",
         "win",
         "KO/TKO"
        ],
        [
         "7923",
         "UFC 28: High Stakes",
         "2000-11-17 00:00:00",
         "Andrei Arlovski",
         "Aaron Brink",
         "Heavyweight",
         "win",
         "SUB"
        ],
        [
         "7922",
         "UFC 28: High Stakes",
         "2000-11-17 00:00:00",
         "Josh Barnett",
         "Gan McGee",
         "Super Heavyweight",
         "win",
         "KO/TKO"
        ]
       ],
       "shape": {
        "columns": 7,
        "rows": 5
       }
      },
      "text/html": [
       "<div>\n",
       "<style scoped>\n",
       "    .dataframe tbody tr th:only-of-type {\n",
       "        vertical-align: middle;\n",
       "    }\n",
       "\n",
       "    .dataframe tbody tr th {\n",
       "        vertical-align: top;\n",
       "    }\n",
       "\n",
       "    .dataframe thead th {\n",
       "        text-align: right;\n",
       "    }\n",
       "</style>\n",
       "<table border=\"1\" class=\"dataframe\">\n",
       "  <thead>\n",
       "    <tr style=\"text-align: right;\">\n",
       "      <th></th>\n",
       "      <th>event</th>\n",
       "      <th>date</th>\n",
       "      <th>fighter</th>\n",
       "      <th>opponent</th>\n",
       "      <th>weight_class</th>\n",
       "      <th>outcome</th>\n",
       "      <th>method</th>\n",
       "    </tr>\n",
       "  </thead>\n",
       "  <tbody>\n",
       "    <tr>\n",
       "      <th>7926</th>\n",
       "      <td>UFC 28: High Stakes</td>\n",
       "      <td>2000-11-17</td>\n",
       "      <td>Ben Earwood</td>\n",
       "      <td>Chris Lytle</td>\n",
       "      <td>Welterweight</td>\n",
       "      <td>win</td>\n",
       "      <td>U-DEC</td>\n",
       "    </tr>\n",
       "    <tr>\n",
       "      <th>7925</th>\n",
       "      <td>UFC 28: High Stakes</td>\n",
       "      <td>2000-11-17</td>\n",
       "      <td>Mark Hughes</td>\n",
       "      <td>Alex Stiebling</td>\n",
       "      <td>Middleweight</td>\n",
       "      <td>win</td>\n",
       "      <td>U-DEC</td>\n",
       "    </tr>\n",
       "    <tr>\n",
       "      <th>7924</th>\n",
       "      <td>UFC 28: High Stakes</td>\n",
       "      <td>2000-11-17</td>\n",
       "      <td>Jens Pulver</td>\n",
       "      <td>John Lewis</td>\n",
       "      <td>Lightweight</td>\n",
       "      <td>win</td>\n",
       "      <td>KO/TKO</td>\n",
       "    </tr>\n",
       "    <tr>\n",
       "      <th>7923</th>\n",
       "      <td>UFC 28: High Stakes</td>\n",
       "      <td>2000-11-17</td>\n",
       "      <td>Andrei Arlovski</td>\n",
       "      <td>Aaron Brink</td>\n",
       "      <td>Heavyweight</td>\n",
       "      <td>win</td>\n",
       "      <td>SUB</td>\n",
       "    </tr>\n",
       "    <tr>\n",
       "      <th>7922</th>\n",
       "      <td>UFC 28: High Stakes</td>\n",
       "      <td>2000-11-17</td>\n",
       "      <td>Josh Barnett</td>\n",
       "      <td>Gan McGee</td>\n",
       "      <td>Super Heavyweight</td>\n",
       "      <td>win</td>\n",
       "      <td>KO/TKO</td>\n",
       "    </tr>\n",
       "  </tbody>\n",
       "</table>\n",
       "</div>"
      ],
      "text/plain": [
       "                    event       date          fighter        opponent  \\\n",
       "7926  UFC 28: High Stakes 2000-11-17      Ben Earwood     Chris Lytle   \n",
       "7925  UFC 28: High Stakes 2000-11-17      Mark Hughes  Alex Stiebling   \n",
       "7924  UFC 28: High Stakes 2000-11-17      Jens Pulver      John Lewis   \n",
       "7923  UFC 28: High Stakes 2000-11-17  Andrei Arlovski     Aaron Brink   \n",
       "7922  UFC 28: High Stakes 2000-11-17     Josh Barnett       Gan McGee   \n",
       "\n",
       "           weight_class outcome  method  \n",
       "7926       Welterweight     win   U-DEC  \n",
       "7925       Middleweight     win   U-DEC  \n",
       "7924        Lightweight     win  KO/TKO  \n",
       "7923        Heavyweight     win     SUB  \n",
       "7922  Super Heavyweight     win  KO/TKO  "
      ]
     },
     "execution_count": 4,
     "metadata": {},
     "output_type": "execute_result"
    }
   ],
   "source": [
    "fights_df = fights_df[fights_df['date'] >= datetime(2000, 11, 17)]\n",
    "fights_df.head()"
   ]
  },
  {
   "cell_type": "markdown",
   "metadata": {},
   "source": [
    "Further we will treat fights graded \"No Contest\" as if the fight never occured (and thus exclude them)."
   ]
  },
  {
   "cell_type": "code",
   "execution_count": 5,
   "metadata": {},
   "outputs": [],
   "source": [
    "fights_df = fights_df[fights_df['outcome'] != 'nc']"
   ]
  },
  {
   "cell_type": "markdown",
   "metadata": {},
   "source": [
    "The following duplicates the entire dataframe, swapping 'fighter' and 'opponent' values and changing the 'outcome' so that there are two rows associated with each fight (i.e. one winner and one loser)."
   ]
  },
  {
   "cell_type": "code",
   "execution_count": 6,
   "metadata": {},
   "outputs": [
    {
     "name": "stdout",
     "output_type": "stream",
     "text": [
      "Shape before: (7842, 7)\n",
      "Shape after: (15684, 7)\n"
     ]
    }
   ],
   "source": [
    "print('Shape before:', fights_df.shape)\n",
    "\n",
    "copy_df = fights_df.copy()\n",
    "copy_df[['fighter', 'opponent']] = copy_df[['opponent', 'fighter']]\n",
    "copy_df['outcome'] = copy_df['outcome'].replace('win', 'loss')\n",
    "fights_df = pd.concat([fights_df, copy_df], ignore_index=True)\n",
    "\n",
    "print('Shape after:', fights_df.shape)"
   ]
  },
  {
   "cell_type": "code",
   "execution_count": 7,
   "metadata": {},
   "outputs": [],
   "source": [
    "fights_df.to_csv('fights.csv', index=False)"
   ]
  },
  {
   "cell_type": "markdown",
   "metadata": {},
   "source": [
    "## Optimizing Algorithm Parameters"
   ]
  },
  {
   "cell_type": "code",
   "execution_count": 3,
   "metadata": {},
   "outputs": [],
   "source": [
    "fights_df = pd.read_csv('fights.csv', parse_dates=['date'])"
   ]
  },
  {
   "cell_type": "code",
   "execution_count": 4,
   "metadata": {},
   "outputs": [],
   "source": [
    "weekly_grouped = fights_df.groupby(pd.Grouper(key='date', freq='W'))"
   ]
  },
  {
   "cell_type": "code",
   "execution_count": null,
   "metadata": {},
   "outputs": [],
   "source": [
    "manager = FighterManager(tau=0.01)\n",
    "\n",
    "for week, group in weekly_grouped:\n",
    "    manager.update_fighters(group)"
   ]
  },
  {
   "cell_type": "code",
   "execution_count": 6,
   "metadata": {},
   "outputs": [
    {
     "data": {
      "application/vnd.microsoft.datawrangler.viewer.v0+json": {
       "columns": [
        {
         "name": "index",
         "rawType": "int64",
         "type": "integer"
        },
        {
         "name": "name",
         "rawType": "object",
         "type": "string"
        },
        {
         "name": "current_rating",
         "rawType": "float64",
         "type": "float"
        },
        {
         "name": "peak_rating",
         "rawType": "float64",
         "type": "float"
        },
        {
         "name": "current_streak",
         "rawType": "int64",
         "type": "integer"
        },
        {
         "name": "best_streak",
         "rawType": "int64",
         "type": "integer"
        }
       ],
       "conversionMethod": "pd.DataFrame",
       "ref": "7773d510-c401-4470-af93-de9733e5f4eb",
       "rows": [
        [
         "411",
         "Jon Jones",
         "2688.989203748623",
         "2688.989203748623",
         "19",
         "19"
        ],
        [
         "1250",
         "Islam Makhachev",
         "2575.400772508141",
         "2575.400772508141",
         "15",
         "15"
        ],
        [
         "233",
         "Anderson Silva",
         "1813.4291733625714",
         "2567.8067749472966",
         "-3",
         "16"
        ],
        [
         "894",
         "Daniel Cormier",
         "2381.5722898045096",
         "2552.493424469566",
         "-2",
         "7"
        ],
        [
         "1268",
         "Kamaru Usman",
         "2308.2337338539533",
         "2550.2431427424103",
         "-3",
         "15"
        ],
        [
         "738",
         "Khabib Nurmagomedov",
         "2539.045591078033",
         "2539.045591078033",
         "13",
         "13"
        ],
        [
         "1171",
         "Leon Edwards",
         "2310.2829967381595",
         "2535.428199569365",
         "-2",
         "12"
        ],
        [
         "120",
         "Georges St-Pierre",
         "2519.1015024922895",
         "2519.1015024922895",
         "13",
         "13"
        ],
        [
         "698",
         "Stipe Miocic",
         "2355.057214828128",
         "2513.7269075802938",
         "-2",
         "6"
        ],
        [
         "1912",
         "Ilia Topuria",
         "2492.888096886265",
         "2492.888096886265",
         "8",
         "8"
        ],
        [
         "630",
         "Chris Weidman",
         "1813.801935181865",
         "2483.2462914033053",
         "-1",
         "9"
        ],
        [
         "1426",
         "Alexander Volkanovski",
         "2390.827287961249",
         "2481.7987484827822",
         "1",
         "12"
        ],
        [
         "1921",
         "Shavkat Rakhmonov",
         "2475.2030166946565",
         "2475.2030166946565",
         "7",
         "7"
        ],
        [
         "1862",
         "Jiri Prochazka",
         "2269.973729044528",
         "2453.446484536237",
         "1",
         "3"
        ],
        [
         "1911",
         "Dricus Du Plessis",
         "2438.7232673265585",
         "2438.7232673265585",
         "9",
         "9"
        ],
        [
         "1322",
         "Francis Ngannou",
         "2437.7889784598137",
         "2437.7889784598137",
         "6",
         "6"
        ],
        [
         "896",
         "Yoel Romero",
         "2167.867723389387",
         "2422.7414661154553",
         "-3",
         "8"
        ],
        [
         "1561",
         "Merab Dvalishvili",
         "2422.1928062416655",
         "2422.1928062416655",
         "12",
         "12"
        ],
        [
         "750",
         "Max Holloway",
         "2358.434130351788",
         "2421.8772848819294",
         "-1",
         "13"
        ],
        [
         "1574",
         "Israel Adesanya",
         "2159.2692660048388",
         "2419.9577681592536",
         "-3",
         "9"
        ],
        [
         "2030",
         "Alex Pereira",
         "2339.3778214414156",
         "2416.2093383389547",
         "-1",
         "5"
        ],
        [
         "649",
         "Jose Aldo",
         "2017.801990554728",
         "2414.002430660901",
         "-2",
         "7"
        ],
        [
         "1366",
         "Belal Muhammad",
         "2313.320910355669",
         "2409.5371071966456",
         "-1",
         "10"
        ],
        [
         "854",
         "Tyron Woodley",
         "2065.8631042490965",
         "2407.7106788068345",
         "-4",
         "6"
        ],
        [
         "307",
         "Fabricio Werdum",
         "2084.671999425859",
         "2405.8419044928696",
         "1",
         "6"
        ],
        [
         "1019",
         "Aljamain Sterling",
         "2250.2473811184054",
         "2400.977619197587",
         "-1",
         "9"
        ],
        [
         "907",
         "Luke Rockhold",
         "1932.147420858068",
         "2400.808229810325",
         "-3",
         "5"
        ],
        [
         "609",
         "Dustin Poirier",
         "2282.140452688656",
         "2400.452754442436",
         "-1",
         "5"
        ],
        [
         "650",
         "Benson Henderson",
         "2184.089512150964",
         "2399.356819436437",
         "2",
         "7"
        ],
        [
         "1868",
         "Khamzat Chimaev",
         "2385.1220546318436",
         "2385.1220546318436",
         "8",
         "8"
        ],
        [
         "384",
         "Cain Velasquez",
         "2159.260254400594",
         "2383.37652880574",
         "-1",
         "7"
        ],
        [
         "834",
         "Robert Whittaker",
         "2244.903596603152",
         "2382.9603001330565",
         "-1",
         "9"
        ],
        [
         "567",
         "Charles Oliveira",
         "2317.2844795161054",
         "2380.8028487828183",
         "1",
         "11"
        ],
        [
         "1484",
         "Justin Gaethje",
         "2336.3322096580087",
         "2366.003425679932",
         "1",
         "4"
        ],
        [
         "1257",
         "Brian Ortega",
         "2153.9545571380363",
         "2365.124939432624",
         "-1",
         "6"
        ],
        [
         "425",
         "Junior Dos Santos",
         "1947.0484181654842",
         "2364.457348295405",
         "-4",
         "9"
        ],
        [
         "68",
         "Robbie Lawler",
         "1962.0671725326235",
         "2360.609362553936",
         "1",
         "5"
        ],
        [
         "2042",
         "Jack Della Maddalena",
         "2351.7999031925865",
         "2351.7999031925865",
         "8",
         "8"
        ],
        [
         "874",
         "Conor McGregor",
         "2191.1414756053196",
         "2351.588050127048",
         "-2",
         "7"
        ],
        [
         "656",
         "Tony Ferguson",
         "1764.5195803209976",
         "2350.6888772760694",
         "-8",
         "12"
        ],
        [
         "1719",
         "Movsar Evloev",
         "2350.5659130176073",
         "2350.5659130176073",
         "9",
         "9"
        ],
        [
         "1800",
         "Sean Brady",
         "2349.9218059325235",
         "2349.9218059325235",
         "3",
         "5"
        ],
        [
         "1765",
         "Ciryl Gane",
         "2342.0806021929584",
         "2342.0806021929584",
         "2",
         "7"
        ],
        [
         "1137",
         "Colby Covington",
         "2131.9638303857923",
         "2338.4221560857536",
         "-2",
         "7"
        ],
        [
         "1586",
         "Magomed Ankalaev",
         "2334.8455007518423",
         "2334.8455007518423",
         "12",
         "12"
        ],
        [
         "906",
         "Jacare Souza",
         "1896.9057142758868",
         "2332.0546539083966",
         "-4",
         "5"
        ],
        [
         "338",
         "Dan Henderson",
         "2004.7119481825612",
         "2324.699263284127",
         "-1",
         "4"
        ],
        [
         "314",
         "Anthony Johnson",
         "2269.8622404309635",
         "2322.8337077207857",
         "-1",
         "3"
        ],
        [
         "1210",
         "Henry Cejudo",
         "2050.7547742711345",
         "2310.7346489768224",
         "-3",
         "6"
        ],
        [
         "1472",
         "Marlon Moraes",
         "1927.2799770985887",
         "2308.765139697903",
         "-4",
         "4"
        ]
       ],
       "shape": {
        "columns": 5,
        "rows": 2404
       }
      },
      "text/html": [
       "<div>\n",
       "<style scoped>\n",
       "    .dataframe tbody tr th:only-of-type {\n",
       "        vertical-align: middle;\n",
       "    }\n",
       "\n",
       "    .dataframe tbody tr th {\n",
       "        vertical-align: top;\n",
       "    }\n",
       "\n",
       "    .dataframe thead th {\n",
       "        text-align: right;\n",
       "    }\n",
       "</style>\n",
       "<table border=\"1\" class=\"dataframe\">\n",
       "  <thead>\n",
       "    <tr style=\"text-align: right;\">\n",
       "      <th></th>\n",
       "      <th>name</th>\n",
       "      <th>current_rating</th>\n",
       "      <th>peak_rating</th>\n",
       "      <th>current_streak</th>\n",
       "      <th>best_streak</th>\n",
       "    </tr>\n",
       "  </thead>\n",
       "  <tbody>\n",
       "    <tr>\n",
       "      <th>411</th>\n",
       "      <td>Jon Jones</td>\n",
       "      <td>2688.989204</td>\n",
       "      <td>2688.989204</td>\n",
       "      <td>19</td>\n",
       "      <td>19</td>\n",
       "    </tr>\n",
       "    <tr>\n",
       "      <th>1250</th>\n",
       "      <td>Islam Makhachev</td>\n",
       "      <td>2575.400773</td>\n",
       "      <td>2575.400773</td>\n",
       "      <td>15</td>\n",
       "      <td>15</td>\n",
       "    </tr>\n",
       "    <tr>\n",
       "      <th>233</th>\n",
       "      <td>Anderson Silva</td>\n",
       "      <td>1813.429173</td>\n",
       "      <td>2567.806775</td>\n",
       "      <td>-3</td>\n",
       "      <td>16</td>\n",
       "    </tr>\n",
       "    <tr>\n",
       "      <th>894</th>\n",
       "      <td>Daniel Cormier</td>\n",
       "      <td>2381.572290</td>\n",
       "      <td>2552.493424</td>\n",
       "      <td>-2</td>\n",
       "      <td>7</td>\n",
       "    </tr>\n",
       "    <tr>\n",
       "      <th>1268</th>\n",
       "      <td>Kamaru Usman</td>\n",
       "      <td>2308.233734</td>\n",
       "      <td>2550.243143</td>\n",
       "      <td>-3</td>\n",
       "      <td>15</td>\n",
       "    </tr>\n",
       "    <tr>\n",
       "      <th>...</th>\n",
       "      <td>...</td>\n",
       "      <td>...</td>\n",
       "      <td>...</td>\n",
       "      <td>...</td>\n",
       "      <td>...</td>\n",
       "    </tr>\n",
       "    <tr>\n",
       "      <th>1340</th>\n",
       "      <td>Kelly Faszholz</td>\n",
       "      <td>1112.516347</td>\n",
       "      <td>1143.595158</td>\n",
       "      <td>-2</td>\n",
       "      <td>0</td>\n",
       "    </tr>\n",
       "    <tr>\n",
       "      <th>1391</th>\n",
       "      <td>Chris Avila</td>\n",
       "      <td>1080.699434</td>\n",
       "      <td>1135.447783</td>\n",
       "      <td>-2</td>\n",
       "      <td>0</td>\n",
       "    </tr>\n",
       "    <tr>\n",
       "      <th>2397</th>\n",
       "      <td>Daniel Frunza</td>\n",
       "      <td>1128.868266</td>\n",
       "      <td>1128.868266</td>\n",
       "      <td>-1</td>\n",
       "      <td>0</td>\n",
       "    </tr>\n",
       "    <tr>\n",
       "      <th>1744</th>\n",
       "      <td>Sung Bin Jo</td>\n",
       "      <td>1128.394578</td>\n",
       "      <td>1128.394578</td>\n",
       "      <td>-1</td>\n",
       "      <td>0</td>\n",
       "    </tr>\n",
       "    <tr>\n",
       "      <th>1541</th>\n",
       "      <td>Wulijiburen</td>\n",
       "      <td>974.918094</td>\n",
       "      <td>1113.556400</td>\n",
       "      <td>-3</td>\n",
       "      <td>0</td>\n",
       "    </tr>\n",
       "  </tbody>\n",
       "</table>\n",
       "<p>2404 rows × 5 columns</p>\n",
       "</div>"
      ],
      "text/plain": [
       "                 name  current_rating  peak_rating  current_streak  \\\n",
       "411         Jon Jones     2688.989204  2688.989204              19   \n",
       "1250  Islam Makhachev     2575.400773  2575.400773              15   \n",
       "233    Anderson Silva     1813.429173  2567.806775              -3   \n",
       "894    Daniel Cormier     2381.572290  2552.493424              -2   \n",
       "1268     Kamaru Usman     2308.233734  2550.243143              -3   \n",
       "...               ...             ...          ...             ...   \n",
       "1340   Kelly Faszholz     1112.516347  1143.595158              -2   \n",
       "1391      Chris Avila     1080.699434  1135.447783              -2   \n",
       "2397    Daniel Frunza     1128.868266  1128.868266              -1   \n",
       "1744      Sung Bin Jo     1128.394578  1128.394578              -1   \n",
       "1541      Wulijiburen      974.918094  1113.556400              -3   \n",
       "\n",
       "      best_streak  \n",
       "411            19  \n",
       "1250           15  \n",
       "233            16  \n",
       "894             7  \n",
       "1268           15  \n",
       "...           ...  \n",
       "1340            0  \n",
       "1391            0  \n",
       "2397            0  \n",
       "1744            0  \n",
       "1541            0  \n",
       "\n",
       "[2404 rows x 5 columns]"
      ]
     },
     "execution_count": 6,
     "metadata": {},
     "output_type": "execute_result"
    }
   ],
   "source": [
    "fighters_df = pd.DataFrame({'name': name,\n",
    "                            'current_rating': fighter.rating,\n",
    "                            'peak_rating': fighter.peak_rating,\n",
    "                            'current_streak': fighter.streak,\n",
    "                            'best_streak': fighter.best_streak}\n",
    "                            for name, fighter in manager.items())\n",
    "\n",
    "fighters_df.sort_values('peak_rating', ascending=False)"
   ]
  }
 ],
 "metadata": {
  "kernelspec": {
   "display_name": ".venv",
   "language": "python",
   "name": "python3"
  },
  "language_info": {
   "codemirror_mode": {
    "name": "ipython",
    "version": 3
   },
   "file_extension": ".py",
   "mimetype": "text/x-python",
   "name": "python",
   "nbconvert_exporter": "python",
   "pygments_lexer": "ipython3",
   "version": "3.11.9"
  }
 },
 "nbformat": 4,
 "nbformat_minor": 2
}
